{
 "cells": [
  {
   "cell_type": "code",
   "execution_count": 1,
   "id": "d56495b1",
   "metadata": {},
   "outputs": [],
   "source": [
    "import pandas as pd\n",
    "from sklearn.ensemble import RandomForestClassifier\n",
    "from sklearn.metrics import accuracy_score, confusion_matrix, ConfusionMatrixDisplay\n",
    "from sklearn.model_selection import train_test_split\n",
    "import category_encoders as ce\n",
    "from sklearn.tree import export_graphviz\n",
    "import graphviz"
   ]
  },
  {
   "cell_type": "markdown",
   "id": "70e02c44",
   "metadata": {},
   "source": [
    "## Navigate to machine learning processes"
   ]
  },
  {
   "cell_type": "code",
   "execution_count": 2,
   "id": "f9b70643",
   "metadata": {},
   "outputs": [
    {
     "data": {
      "text/html": [
       "<div>\n",
       "<style scoped>\n",
       "    .dataframe tbody tr th:only-of-type {\n",
       "        vertical-align: middle;\n",
       "    }\n",
       "\n",
       "    .dataframe tbody tr th {\n",
       "        vertical-align: top;\n",
       "    }\n",
       "\n",
       "    .dataframe thead th {\n",
       "        text-align: right;\n",
       "    }\n",
       "</style>\n",
       "<table border=\"1\" class=\"dataframe\">\n",
       "  <thead>\n",
       "    <tr style=\"text-align: right;\">\n",
       "      <th></th>\n",
       "      <th>brand</th>\n",
       "      <th>model</th>\n",
       "      <th>colour</th>\n",
       "      <th>original_price</th>\n",
       "      <th>discounted_price</th>\n",
       "      <th>ratings</th>\n",
       "      <th>rating_count</th>\n",
       "      <th>reviews</th>\n",
       "      <th>memory</th>\n",
       "      <th>storage</th>\n",
       "      <th>processor</th>\n",
       "      <th>rear_camera</th>\n",
       "      <th>front_camera</th>\n",
       "      <th>display_size</th>\n",
       "      <th>battery_capacity</th>\n",
       "      <th>battery_type</th>\n",
       "      <th>Label</th>\n",
       "    </tr>\n",
       "  </thead>\n",
       "  <tbody>\n",
       "    <tr>\n",
       "      <th>0</th>\n",
       "      <td>VIVO</td>\n",
       "      <td>VIVO T1 44W</td>\n",
       "      <td>Starry Sky</td>\n",
       "      <td>19990</td>\n",
       "      <td>14499</td>\n",
       "      <td>4.5</td>\n",
       "      <td>87331</td>\n",
       "      <td>6044</td>\n",
       "      <td>4.0</td>\n",
       "      <td>128.0</td>\n",
       "      <td>Qualcomm Snapdragon 680</td>\n",
       "      <td>50MP + 2MP + 2MP</td>\n",
       "      <td>16MP</td>\n",
       "      <td>16.36</td>\n",
       "      <td>5000.0</td>\n",
       "      <td>Lithium</td>\n",
       "      <td>1</td>\n",
       "    </tr>\n",
       "    <tr>\n",
       "      <th>1</th>\n",
       "      <td>APPLE</td>\n",
       "      <td>APPLE IPHONE 11</td>\n",
       "      <td>White</td>\n",
       "      <td>48900</td>\n",
       "      <td>47199</td>\n",
       "      <td>4.6</td>\n",
       "      <td>184191</td>\n",
       "      <td>10818</td>\n",
       "      <td>NaN</td>\n",
       "      <td>128.0</td>\n",
       "      <td>A Bionic Chip</td>\n",
       "      <td>12MP + 12MP</td>\n",
       "      <td>12MP</td>\n",
       "      <td>15.49</td>\n",
       "      <td>NaN</td>\n",
       "      <td>NaN</td>\n",
       "      <td>1</td>\n",
       "    </tr>\n",
       "    <tr>\n",
       "      <th>2</th>\n",
       "      <td>VIVO</td>\n",
       "      <td>VIVO T1 44W</td>\n",
       "      <td>Midnight Galaxy</td>\n",
       "      <td>20990</td>\n",
       "      <td>15999</td>\n",
       "      <td>4.4</td>\n",
       "      <td>51365</td>\n",
       "      <td>3750</td>\n",
       "      <td>6.0</td>\n",
       "      <td>128.0</td>\n",
       "      <td>Qualcomm Snapdragon 680</td>\n",
       "      <td>50MP + 2MP + 2MP</td>\n",
       "      <td>16MP</td>\n",
       "      <td>16.36</td>\n",
       "      <td>5000.0</td>\n",
       "      <td>Lithium</td>\n",
       "      <td>1</td>\n",
       "    </tr>\n",
       "    <tr>\n",
       "      <th>3</th>\n",
       "      <td>XIAOMI</td>\n",
       "      <td>POCO M4 5G</td>\n",
       "      <td>Power Black</td>\n",
       "      <td>15999</td>\n",
       "      <td>11999</td>\n",
       "      <td>4.2</td>\n",
       "      <td>53448</td>\n",
       "      <td>4185</td>\n",
       "      <td>4.0</td>\n",
       "      <td>64.0</td>\n",
       "      <td>Mediatek Dimensity 700</td>\n",
       "      <td>50MP + 2MP</td>\n",
       "      <td>8MP</td>\n",
       "      <td>16.71</td>\n",
       "      <td>5000.0</td>\n",
       "      <td>Lithium Polymer</td>\n",
       "      <td>1</td>\n",
       "    </tr>\n",
       "    <tr>\n",
       "      <th>4</th>\n",
       "      <td>XIAOMI</td>\n",
       "      <td>REDMI 10</td>\n",
       "      <td>Caribbean Green</td>\n",
       "      <td>14999</td>\n",
       "      <td>9299</td>\n",
       "      <td>4.3</td>\n",
       "      <td>187787</td>\n",
       "      <td>12084</td>\n",
       "      <td>4.0</td>\n",
       "      <td>64.0</td>\n",
       "      <td>Qualcomm Snapdragon 680</td>\n",
       "      <td>50MP + 2MP</td>\n",
       "      <td>5MP</td>\n",
       "      <td>17.02</td>\n",
       "      <td>6000.0</td>\n",
       "      <td>Lithium Polymer</td>\n",
       "      <td>1</td>\n",
       "    </tr>\n",
       "  </tbody>\n",
       "</table>\n",
       "</div>"
      ],
      "text/plain": [
       "    brand             model           colour  original_price  \\\n",
       "0    VIVO      VIVO T1 44W        Starry Sky           19990   \n",
       "1   APPLE  APPLE IPHONE 11             White           48900   \n",
       "2    VIVO      VIVO T1 44W   Midnight Galaxy           20990   \n",
       "3  XIAOMI       POCO M4 5G       Power Black           15999   \n",
       "4  XIAOMI         REDMI 10   Caribbean Green           14999   \n",
       "\n",
       "   discounted_price  ratings  rating_count  reviews  memory  storage  \\\n",
       "0             14499      4.5         87331     6044     4.0    128.0   \n",
       "1             47199      4.6        184191    10818     NaN    128.0   \n",
       "2             15999      4.4         51365     3750     6.0    128.0   \n",
       "3             11999      4.2         53448     4185     4.0     64.0   \n",
       "4              9299      4.3        187787    12084     4.0     64.0   \n",
       "\n",
       "                 processor        rear_camera front_camera  display_size  \\\n",
       "0  Qualcomm Snapdragon 680  50MP + 2MP + 2MP          16MP         16.36   \n",
       "1            A Bionic Chip       12MP + 12MP          12MP         15.49   \n",
       "2  Qualcomm Snapdragon 680  50MP + 2MP + 2MP          16MP         16.36   \n",
       "3   Mediatek Dimensity 700        50MP + 2MP           8MP         16.71   \n",
       "4  Qualcomm Snapdragon 680        50MP + 2MP           5MP         17.02   \n",
       "\n",
       "   battery_capacity     battery_type  Label  \n",
       "0            5000.0          Lithium      1  \n",
       "1               NaN              NaN      1  \n",
       "2            5000.0          Lithium      1  \n",
       "3            5000.0  Lithium Polymer      1  \n",
       "4            6000.0  Lithium Polymer      1  "
      ]
     },
     "execution_count": 2,
     "metadata": {},
     "output_type": "execute_result"
    }
   ],
   "source": [
    "df = pd.read_csv(r'C:\\Users\\hp\\Desktop\\Old files 2023\\BEEE Notes\\Flipkart_smartphonesshuffled.csv')\n",
    "df.head()"
   ]
  },
  {
   "cell_type": "code",
   "execution_count": 3,
   "id": "f0db7c1b",
   "metadata": {},
   "outputs": [
    {
     "data": {
      "text/plain": [
       "(1672, 17)"
      ]
     },
     "execution_count": 3,
     "metadata": {},
     "output_type": "execute_result"
    }
   ],
   "source": [
    "df.shape"
   ]
  },
  {
   "cell_type": "code",
   "execution_count": 4,
   "id": "2bf9351f",
   "metadata": {},
   "outputs": [
    {
     "data": {
      "text/html": [
       "<div>\n",
       "<style scoped>\n",
       "    .dataframe tbody tr th:only-of-type {\n",
       "        vertical-align: middle;\n",
       "    }\n",
       "\n",
       "    .dataframe tbody tr th {\n",
       "        vertical-align: top;\n",
       "    }\n",
       "\n",
       "    .dataframe thead th {\n",
       "        text-align: right;\n",
       "    }\n",
       "</style>\n",
       "<table border=\"1\" class=\"dataframe\">\n",
       "  <thead>\n",
       "    <tr style=\"text-align: right;\">\n",
       "      <th></th>\n",
       "      <th>original_price</th>\n",
       "      <th>discounted_price</th>\n",
       "      <th>ratings</th>\n",
       "      <th>rating_count</th>\n",
       "      <th>reviews</th>\n",
       "      <th>memory</th>\n",
       "      <th>storage</th>\n",
       "      <th>display_size</th>\n",
       "      <th>battery_capacity</th>\n",
       "      <th>Label</th>\n",
       "    </tr>\n",
       "  </thead>\n",
       "  <tbody>\n",
       "    <tr>\n",
       "      <th>count</th>\n",
       "      <td>1672.000000</td>\n",
       "      <td>1672.000000</td>\n",
       "      <td>1672.000000</td>\n",
       "      <td>1.672000e+03</td>\n",
       "      <td>1672.000000</td>\n",
       "      <td>1514.000000</td>\n",
       "      <td>1640.000000</td>\n",
       "      <td>1672.000000</td>\n",
       "      <td>1556.000000</td>\n",
       "      <td>1672.00000</td>\n",
       "    </tr>\n",
       "    <tr>\n",
       "      <th>mean</th>\n",
       "      <td>26112.848086</td>\n",
       "      <td>21532.468900</td>\n",
       "      <td>4.272488</td>\n",
       "      <td>4.169612e+04</td>\n",
       "      <td>3144.740431</td>\n",
       "      <td>5.225892</td>\n",
       "      <td>108.458537</td>\n",
       "      <td>16.525179</td>\n",
       "      <td>4950.931877</td>\n",
       "      <td>0.50000</td>\n",
       "    </tr>\n",
       "    <tr>\n",
       "      <th>std</th>\n",
       "      <td>23774.000580</td>\n",
       "      <td>21356.879795</td>\n",
       "      <td>0.283998</td>\n",
       "      <td>9.081457e+04</td>\n",
       "      <td>7522.366113</td>\n",
       "      <td>2.006721</td>\n",
       "      <td>69.153300</td>\n",
       "      <td>0.681985</td>\n",
       "      <td>501.897428</td>\n",
       "      <td>0.50015</td>\n",
       "    </tr>\n",
       "    <tr>\n",
       "      <th>min</th>\n",
       "      <td>4899.000000</td>\n",
       "      <td>3599.000000</td>\n",
       "      <td>0.000000</td>\n",
       "      <td>0.000000e+00</td>\n",
       "      <td>0.000000</td>\n",
       "      <td>1.000000</td>\n",
       "      <td>8.000000</td>\n",
       "      <td>10.160000</td>\n",
       "      <td>1600.000000</td>\n",
       "      <td>0.00000</td>\n",
       "    </tr>\n",
       "    <tr>\n",
       "      <th>25%</th>\n",
       "      <td>13999.000000</td>\n",
       "      <td>9999.000000</td>\n",
       "      <td>4.200000</td>\n",
       "      <td>9.227500e+02</td>\n",
       "      <td>78.000000</td>\n",
       "      <td>4.000000</td>\n",
       "      <td>64.000000</td>\n",
       "      <td>16.510000</td>\n",
       "      <td>5000.000000</td>\n",
       "      <td>0.00000</td>\n",
       "    </tr>\n",
       "    <tr>\n",
       "      <th>50%</th>\n",
       "      <td>17999.000000</td>\n",
       "      <td>14999.000000</td>\n",
       "      <td>4.300000</td>\n",
       "      <td>5.917500e+03</td>\n",
       "      <td>514.000000</td>\n",
       "      <td>6.000000</td>\n",
       "      <td>128.000000</td>\n",
       "      <td>16.660000</td>\n",
       "      <td>5000.000000</td>\n",
       "      <td>0.50000</td>\n",
       "    </tr>\n",
       "    <tr>\n",
       "      <th>75%</th>\n",
       "      <td>25999.000000</td>\n",
       "      <td>22992.250000</td>\n",
       "      <td>4.400000</td>\n",
       "      <td>3.995500e+04</td>\n",
       "      <td>3314.000000</td>\n",
       "      <td>6.000000</td>\n",
       "      <td>128.000000</td>\n",
       "      <td>16.760000</td>\n",
       "      <td>5000.000000</td>\n",
       "      <td>1.00000</td>\n",
       "    </tr>\n",
       "    <tr>\n",
       "      <th>max</th>\n",
       "      <td>159900.000000</td>\n",
       "      <td>152999.000000</td>\n",
       "      <td>4.700000</td>\n",
       "      <td>1.171704e+06</td>\n",
       "      <td>122453.000000</td>\n",
       "      <td>8.000000</td>\n",
       "      <td>512.000000</td>\n",
       "      <td>17.780000</td>\n",
       "      <td>7000.000000</td>\n",
       "      <td>1.00000</td>\n",
       "    </tr>\n",
       "  </tbody>\n",
       "</table>\n",
       "</div>"
      ],
      "text/plain": [
       "       original_price  discounted_price      ratings  rating_count  \\\n",
       "count     1672.000000       1672.000000  1672.000000  1.672000e+03   \n",
       "mean     26112.848086      21532.468900     4.272488  4.169612e+04   \n",
       "std      23774.000580      21356.879795     0.283998  9.081457e+04   \n",
       "min       4899.000000       3599.000000     0.000000  0.000000e+00   \n",
       "25%      13999.000000       9999.000000     4.200000  9.227500e+02   \n",
       "50%      17999.000000      14999.000000     4.300000  5.917500e+03   \n",
       "75%      25999.000000      22992.250000     4.400000  3.995500e+04   \n",
       "max     159900.000000     152999.000000     4.700000  1.171704e+06   \n",
       "\n",
       "             reviews       memory      storage  display_size  \\\n",
       "count    1672.000000  1514.000000  1640.000000   1672.000000   \n",
       "mean     3144.740431     5.225892   108.458537     16.525179   \n",
       "std      7522.366113     2.006721    69.153300      0.681985   \n",
       "min         0.000000     1.000000     8.000000     10.160000   \n",
       "25%        78.000000     4.000000    64.000000     16.510000   \n",
       "50%       514.000000     6.000000   128.000000     16.660000   \n",
       "75%      3314.000000     6.000000   128.000000     16.760000   \n",
       "max    122453.000000     8.000000   512.000000     17.780000   \n",
       "\n",
       "       battery_capacity       Label  \n",
       "count       1556.000000  1672.00000  \n",
       "mean        4950.931877     0.50000  \n",
       "std          501.897428     0.50015  \n",
       "min         1600.000000     0.00000  \n",
       "25%         5000.000000     0.00000  \n",
       "50%         5000.000000     0.50000  \n",
       "75%         5000.000000     1.00000  \n",
       "max         7000.000000     1.00000  "
      ]
     },
     "execution_count": 4,
     "metadata": {},
     "output_type": "execute_result"
    }
   ],
   "source": [
    "df.describe()"
   ]
  },
  {
   "cell_type": "code",
   "execution_count": 5,
   "id": "f60de22c",
   "metadata": {},
   "outputs": [],
   "source": [
    "df['memory'].fillna(int(df['memory'].mean()), inplace = True)"
   ]
  },
  {
   "cell_type": "code",
   "execution_count": 6,
   "id": "be1ab504",
   "metadata": {},
   "outputs": [],
   "source": [
    "df['storage'].fillna(int(df['storage'].mean()), inplace = True)"
   ]
  },
  {
   "cell_type": "code",
   "execution_count": 7,
   "id": "6bf66a08",
   "metadata": {},
   "outputs": [],
   "source": [
    "df['battery_capacity'].fillna(int(df['battery_capacity'].mean()), inplace = True)"
   ]
  },
  {
   "cell_type": "code",
   "execution_count": 8,
   "id": "9144e1f2",
   "metadata": {},
   "outputs": [],
   "source": [
    "df['processor'].fillna('A Bionic Chip', inplace = True)"
   ]
  },
  {
   "cell_type": "code",
   "execution_count": 9,
   "id": "71bafe0b",
   "metadata": {},
   "outputs": [],
   "source": [
    "df['colour'].fillna('Red Gold', inplace = True)"
   ]
  },
  {
   "cell_type": "code",
   "execution_count": 10,
   "id": "b9469f7c",
   "metadata": {},
   "outputs": [],
   "source": [
    "df['front_camera'].fillna('20MP + 4.8MP Dual', inplace = True)"
   ]
  },
  {
   "cell_type": "code",
   "execution_count": 11,
   "id": "f813d4ac",
   "metadata": {},
   "outputs": [],
   "source": [
    "df['battery_type'].fillna('Lithium', inplace = True)"
   ]
  },
  {
   "cell_type": "code",
   "execution_count": 12,
   "id": "901a2630",
   "metadata": {},
   "outputs": [
    {
     "data": {
      "text/plain": [
       "brand               0\n",
       "model               0\n",
       "colour              0\n",
       "original_price      0\n",
       "discounted_price    0\n",
       "ratings             0\n",
       "rating_count        0\n",
       "reviews             0\n",
       "memory              0\n",
       "storage             0\n",
       "processor           0\n",
       "rear_camera         0\n",
       "front_camera        0\n",
       "display_size        0\n",
       "battery_capacity    0\n",
       "battery_type        0\n",
       "Label               0\n",
       "dtype: int64"
      ]
     },
     "execution_count": 12,
     "metadata": {},
     "output_type": "execute_result"
    }
   ],
   "source": [
    "df.isnull().sum()"
   ]
  },
  {
   "cell_type": "code",
   "execution_count": 13,
   "id": "c603be83",
   "metadata": {},
   "outputs": [
    {
     "name": "stdout",
     "output_type": "stream",
     "text": [
      "There are 7 categorical variables\n",
      "\n",
      "The categorical variables are :\n",
      "\n",
      " ['brand', 'model', 'colour', 'processor', 'rear_camera', 'front_camera', 'battery_type']\n"
     ]
    }
   ],
   "source": [
    "categorical = [var for var in df.columns if df[var].dtype=='O']\n",
    "\n",
    "print('There are {} categorical variables\\n'.format(len(categorical)))\n",
    "\n",
    "print('The categorical variables are :\\n\\n', categorical)"
   ]
  },
  {
   "cell_type": "code",
   "execution_count": 14,
   "id": "029f3771",
   "metadata": {},
   "outputs": [
    {
     "data": {
      "text/plain": [
       " 16MP              227\n",
       "17MP               186\n",
       " 8MP               162\n",
       " 5MP               138\n",
       "9MP                138\n",
       "                  ... \n",
       "9MP + 9MP Dual       1\n",
       "61MP                 1\n",
       "14MP + 5MP Dual      1\n",
       "32MP                 1\n",
       "27MP + 9MP Dual      1\n",
       "Name: front_camera, Length: 102, dtype: int64"
      ]
     },
     "execution_count": 14,
     "metadata": {},
     "output_type": "execute_result"
    }
   ],
   "source": [
    "df['front_camera'].value_counts()"
   ]
  },
  {
   "cell_type": "code",
   "execution_count": 15,
   "id": "570738e6",
   "metadata": {},
   "outputs": [],
   "source": [
    "X = df.drop(['Label'], axis=1)\n",
    "\n",
    "y = df['Label']"
   ]
  },
  {
   "cell_type": "code",
   "execution_count": 16,
   "id": "e188a974",
   "metadata": {},
   "outputs": [],
   "source": [
    "\n",
    "# Split the data into training and test sets\n",
    "X_train, X_test, y_train, y_test = train_test_split(X, y, test_size=0.33)"
   ]
  },
  {
   "cell_type": "code",
   "execution_count": 17,
   "id": "748ac858",
   "metadata": {},
   "outputs": [],
   "source": [
    "encoder = ce.OneHotEncoder(cols= ['brand', 'model', 'colour', 'processor', 'rear_camera', 'front_camera','battery_type'])\n",
    "\n",
    "x_train = encoder.fit_transform(X_train)\n",
    "\n",
    "x_test = encoder.transform(X_test)"
   ]
  },
  {
   "cell_type": "code",
   "execution_count": 18,
   "id": "f783d10e",
   "metadata": {},
   "outputs": [
    {
     "data": {
      "text/html": [
       "<style>#sk-container-id-1 {color: black;background-color: white;}#sk-container-id-1 pre{padding: 0;}#sk-container-id-1 div.sk-toggleable {background-color: white;}#sk-container-id-1 label.sk-toggleable__label {cursor: pointer;display: block;width: 100%;margin-bottom: 0;padding: 0.3em;box-sizing: border-box;text-align: center;}#sk-container-id-1 label.sk-toggleable__label-arrow:before {content: \"▸\";float: left;margin-right: 0.25em;color: #696969;}#sk-container-id-1 label.sk-toggleable__label-arrow:hover:before {color: black;}#sk-container-id-1 div.sk-estimator:hover label.sk-toggleable__label-arrow:before {color: black;}#sk-container-id-1 div.sk-toggleable__content {max-height: 0;max-width: 0;overflow: hidden;text-align: left;background-color: #f0f8ff;}#sk-container-id-1 div.sk-toggleable__content pre {margin: 0.2em;color: black;border-radius: 0.25em;background-color: #f0f8ff;}#sk-container-id-1 input.sk-toggleable__control:checked~div.sk-toggleable__content {max-height: 200px;max-width: 100%;overflow: auto;}#sk-container-id-1 input.sk-toggleable__control:checked~label.sk-toggleable__label-arrow:before {content: \"▾\";}#sk-container-id-1 div.sk-estimator input.sk-toggleable__control:checked~label.sk-toggleable__label {background-color: #d4ebff;}#sk-container-id-1 div.sk-label input.sk-toggleable__control:checked~label.sk-toggleable__label {background-color: #d4ebff;}#sk-container-id-1 input.sk-hidden--visually {border: 0;clip: rect(1px 1px 1px 1px);clip: rect(1px, 1px, 1px, 1px);height: 1px;margin: -1px;overflow: hidden;padding: 0;position: absolute;width: 1px;}#sk-container-id-1 div.sk-estimator {font-family: monospace;background-color: #f0f8ff;border: 1px dotted black;border-radius: 0.25em;box-sizing: border-box;margin-bottom: 0.5em;}#sk-container-id-1 div.sk-estimator:hover {background-color: #d4ebff;}#sk-container-id-1 div.sk-parallel-item::after {content: \"\";width: 100%;border-bottom: 1px solid gray;flex-grow: 1;}#sk-container-id-1 div.sk-label:hover label.sk-toggleable__label {background-color: #d4ebff;}#sk-container-id-1 div.sk-serial::before {content: \"\";position: absolute;border-left: 1px solid gray;box-sizing: border-box;top: 0;bottom: 0;left: 50%;z-index: 0;}#sk-container-id-1 div.sk-serial {display: flex;flex-direction: column;align-items: center;background-color: white;padding-right: 0.2em;padding-left: 0.2em;position: relative;}#sk-container-id-1 div.sk-item {position: relative;z-index: 1;}#sk-container-id-1 div.sk-parallel {display: flex;align-items: stretch;justify-content: center;background-color: white;position: relative;}#sk-container-id-1 div.sk-item::before, #sk-container-id-1 div.sk-parallel-item::before {content: \"\";position: absolute;border-left: 1px solid gray;box-sizing: border-box;top: 0;bottom: 0;left: 50%;z-index: -1;}#sk-container-id-1 div.sk-parallel-item {display: flex;flex-direction: column;z-index: 1;position: relative;background-color: white;}#sk-container-id-1 div.sk-parallel-item:first-child::after {align-self: flex-end;width: 50%;}#sk-container-id-1 div.sk-parallel-item:last-child::after {align-self: flex-start;width: 50%;}#sk-container-id-1 div.sk-parallel-item:only-child::after {width: 0;}#sk-container-id-1 div.sk-dashed-wrapped {border: 1px dashed gray;margin: 0 0.4em 0.5em 0.4em;box-sizing: border-box;padding-bottom: 0.4em;background-color: white;}#sk-container-id-1 div.sk-label label {font-family: monospace;font-weight: bold;display: inline-block;line-height: 1.2em;}#sk-container-id-1 div.sk-label-container {text-align: center;}#sk-container-id-1 div.sk-container {/* jupyter's `normalize.less` sets `[hidden] { display: none; }` but bootstrap.min.css set `[hidden] { display: none !important; }` so we also need the `!important` here to be able to override the default hidden behavior on the sphinx rendered scikit-learn.org. See: https://github.com/scikit-learn/scikit-learn/issues/21755 */display: inline-block !important;position: relative;}#sk-container-id-1 div.sk-text-repr-fallback {display: none;}</style><div id=\"sk-container-id-1\" class=\"sk-top-container\"><div class=\"sk-text-repr-fallback\"><pre>RandomForestClassifier(max_depth=2, n_estimators=50, random_state=100)</pre><b>In a Jupyter environment, please rerun this cell to show the HTML representation or trust the notebook. <br />On GitHub, the HTML representation is unable to render, please try loading this page with nbviewer.org.</b></div><div class=\"sk-container\" hidden><div class=\"sk-item\"><div class=\"sk-estimator sk-toggleable\"><input class=\"sk-toggleable__control sk-hidden--visually\" id=\"sk-estimator-id-1\" type=\"checkbox\" checked><label for=\"sk-estimator-id-1\" class=\"sk-toggleable__label sk-toggleable__label-arrow\">RandomForestClassifier</label><div class=\"sk-toggleable__content\"><pre>RandomForestClassifier(max_depth=2, n_estimators=50, random_state=100)</pre></div></div></div></div></div>"
      ],
      "text/plain": [
       "RandomForestClassifier(max_depth=2, n_estimators=50, random_state=100)"
      ]
     },
     "execution_count": 18,
     "metadata": {},
     "output_type": "execute_result"
    }
   ],
   "source": [
    "classifier = RandomForestClassifier(random_state=100,max_depth = 2,n_estimators = 50)\n",
    "classifier.fit(x_train, y_train)"
   ]
  },
  {
   "cell_type": "code",
   "execution_count": 19,
   "id": "86ec4d6d",
   "metadata": {},
   "outputs": [
    {
     "data": {
      "text/plain": [
       "array([1, 0, 1, 1, 1, 1, 1, 0, 1, 1, 0, 0, 1, 1, 1, 0, 0, 0, 0, 1, 1, 0,\n",
       "       1, 0, 1, 1, 1, 0, 1, 0, 0, 0, 0, 1, 1, 0, 0, 0, 0, 0, 1, 1, 1, 1,\n",
       "       0, 1, 1, 0, 1, 0, 0, 0, 0, 1, 1, 0, 0, 1, 0, 1, 0, 0, 0, 1, 0, 0,\n",
       "       0, 0, 1, 1, 0, 0, 0, 0, 1, 0, 0, 0, 0, 1, 1, 0, 1, 0, 0, 0, 1, 1,\n",
       "       1, 1, 0, 1, 1, 1, 1, 0, 1, 0, 1, 1, 1, 0, 0, 1, 1, 1, 0, 1, 0, 0,\n",
       "       0, 0, 0, 0, 0, 0, 0, 0, 0, 0, 0, 0, 1, 0, 1, 0, 1, 1, 1, 1, 1, 1,\n",
       "       0, 0, 0, 1, 1, 1, 1, 0, 0, 1, 0, 0, 0, 0, 0, 1, 0, 1, 1, 0, 0, 0,\n",
       "       1, 0, 0, 0, 0, 0, 1, 1, 1, 0, 1, 0, 0, 1, 1, 1, 0, 1, 1, 1, 1, 0,\n",
       "       1, 0, 0, 0, 0, 0, 1, 1, 1, 1, 0, 0, 0, 1, 0, 1, 1, 0, 1, 1, 1, 0,\n",
       "       0, 0, 1, 1, 0, 1, 1, 0, 0, 1, 1, 0, 1, 0, 1, 0, 1, 1, 1, 1, 1, 1,\n",
       "       0, 1, 0, 1, 0, 1, 0, 1, 0, 0, 1, 0, 0, 1, 1, 0, 0, 1, 0, 0, 0, 1,\n",
       "       0, 0, 0, 0, 0, 1, 0, 1, 1, 0, 0, 0, 0, 1, 1, 0, 0, 1, 1, 1, 1, 0,\n",
       "       1, 1, 1, 1, 1, 1, 1, 1, 0, 0, 1, 1, 0, 1, 1, 1, 0, 1, 0, 1, 0, 0,\n",
       "       0, 1, 0, 1, 0, 1, 0, 0, 1, 0, 1, 1, 1, 0, 1, 1, 1, 0, 1, 0, 0, 0,\n",
       "       1, 0, 1, 0, 0, 1, 0, 0, 1, 1, 0, 1, 1, 0, 1, 1, 1, 1, 1, 0, 1, 1,\n",
       "       0, 1, 1, 0, 0, 0, 0, 0, 1, 1, 1, 0, 0, 0, 1, 1, 0, 0, 0, 0, 1, 1,\n",
       "       1, 1, 1, 0, 0, 0, 1, 1, 0, 1, 1, 1, 1, 1, 1, 0, 0, 1, 0, 1, 0, 1,\n",
       "       1, 0, 0, 0, 1, 0, 1, 1, 0, 0, 0, 0, 0, 0, 1, 0, 1, 1, 0, 1, 1, 0,\n",
       "       1, 1, 1, 1, 0, 1, 0, 0, 1, 0, 1, 1, 0, 0, 0, 0, 0, 1, 1, 0, 1, 0,\n",
       "       0, 1, 0, 0, 0, 0, 1, 0, 0, 1, 1, 1, 1, 0, 1, 0, 1, 1, 0, 1, 1, 0,\n",
       "       1, 1, 1, 0, 1, 0, 1, 1, 0, 1, 0, 0, 0, 1, 1, 0, 0, 0, 0, 0, 1, 1,\n",
       "       1, 0, 0, 1, 0, 0, 0, 0, 1, 1, 0, 1, 0, 1, 1, 0, 0, 1, 1, 1, 1, 0,\n",
       "       0, 1, 1, 1, 1, 0, 1, 0, 1, 0, 0, 0, 1, 1, 0, 0, 1, 1, 1, 0, 1, 1,\n",
       "       1, 1, 0, 0, 1, 1, 0, 0, 0, 0, 1, 1, 1, 0, 0, 1, 1, 1, 1, 1, 0, 1,\n",
       "       0, 0, 0, 1, 0, 0, 1, 1, 1, 0, 1, 0, 0, 1, 0, 1, 0, 1, 1, 0, 1, 1,\n",
       "       1, 0], dtype=int64)"
      ]
     },
     "execution_count": 19,
     "metadata": {},
     "output_type": "execute_result"
    }
   ],
   "source": [
    "y_pred= classifier.predict(x_test) \n",
    "y_pred"
   ]
  },
  {
   "cell_type": "code",
   "execution_count": 20,
   "id": "257d41b8",
   "metadata": {},
   "outputs": [
    {
     "name": "stdout",
     "output_type": "stream",
     "text": [
      "Accuracy: 0.9945652173913043\n"
     ]
    }
   ],
   "source": [
    "y_pred= classifier.predict(x_test) \n",
    "accuracy = accuracy_score(y_test, y_pred)\n",
    "print(f'Accuracy: {accuracy}')"
   ]
  },
  {
   "cell_type": "code",
   "execution_count": 21,
   "id": "6d2e690e",
   "metadata": {},
   "outputs": [
    {
     "data": {
      "image/png": "[encoded data removed]",
      "text/plain": [
       "<Figure size 640x480 with 2 Axes>"
      ]
     },
     "metadata": {},
     "output_type": "display_data"
    }
   ],
   "source": [
    "y_pred = classifier.predict(x_test)\n",
    "\n",
    "# Create the confusion matrix\n",
    "cm = confusion_matrix(y_test, y_pred)\n",
    "\n",
    "ConfusionMatrixDisplay(confusion_matrix=cm).plot();"
   ]
  },
  {
   "cell_type": "code",
   "execution_count": 22,
   "id": "efc4a1e9",
   "metadata": {},
   "outputs": [
    {
     "data": {
      "image/svg+xml": [
       "<?xml version=\"1.0\" encoding=\"UTF-8\" standalone=\"no\"?>\n",
       "<!DOCTYPE svg PUBLIC \"-//W3C//DTD SVG 1.1//EN\"\n",
       " \"http://www.w3.org/Graphics/SVG/1.1/DTD/svg11.dtd\">\n",
       "<!-- Generated by graphviz version 2.50.0 (0)\n",
       " -->\n",
       "<!-- Title: Tree Pages: 1 -->\n",
       "<svg width=\"373pt\" height=\"224pt\"\n",
       " viewBox=\"0.00 0.00 373.00 224.00\" xmlns=\"http://www.w3.org/2000/svg\" xmlns:xlink=\"http://www.w3.org/1999/xlink\">\n",
       "<g id=\"graph0\" class=\"graph\" transform=\"scale(1 1) rotate(0) translate(4 220)\">\n",
       "<title>Tree</title>\n",
       "<polygon fill=\"white\" stroke=\"transparent\" points=\"-4,4 -4,-220 369,-220 369,4 -4,4\"/>\n",
       "<!-- 0 -->\n",
       "<g id=\"node1\" class=\"node\">\n",
       "<title>0</title>\n",
       "<polygon fill=\"#eaf5fc\" stroke=\"black\" points=\"302,-216 153,-216 153,-163 302,-163 302,-216\"/>\n",
       "<text text-anchor=\"middle\" x=\"227.5\" y=\"-200.8\" font-family=\"Helvetica,sans-Serif\" font-size=\"14.00\">battery_type_1 &lt;= 0.5</text>\n",
       "<text text-anchor=\"middle\" x=\"227.5\" y=\"-185.8\" font-family=\"Helvetica,sans-Serif\" font-size=\"14.00\">samples = 100.0%</text>\n",
       "<text text-anchor=\"middle\" x=\"227.5\" y=\"-170.8\" font-family=\"Helvetica,sans-Serif\" font-size=\"14.00\">value = [0.472, 0.528]</text>\n",
       "</g>\n",
       "<!-- 1 -->\n",
       "<g id=\"node2\" class=\"node\">\n",
       "<title>1</title>\n",
       "<polygon fill=\"#fefcfb\" stroke=\"black\" points=\"229.5,-127 67.5,-127 67.5,-74 229.5,-74 229.5,-127\"/>\n",
       "<text text-anchor=\"middle\" x=\"148.5\" y=\"-111.8\" font-family=\"Helvetica,sans-Serif\" font-size=\"14.00\">front_camera_10 &lt;= 0.5</text>\n",
       "<text text-anchor=\"middle\" x=\"148.5\" y=\"-96.8\" font-family=\"Helvetica,sans-Serif\" font-size=\"14.00\">samples = 93.7%</text>\n",
       "<text text-anchor=\"middle\" x=\"148.5\" y=\"-81.8\" font-family=\"Helvetica,sans-Serif\" font-size=\"14.00\">value = [0.505, 0.495]</text>\n",
       "</g>\n",
       "<!-- 0&#45;&gt;1 -->\n",
       "<g id=\"edge1\" class=\"edge\">\n",
       "<title>0&#45;&gt;1</title>\n",
       "<path fill=\"none\" stroke=\"black\" d=\"M204.22,-162.87C196.26,-154.1 187.23,-144.15 178.79,-134.86\"/>\n",
       "<polygon fill=\"black\" stroke=\"black\" points=\"181.2,-132.3 171.88,-127.25 176.01,-137.01 181.2,-132.3\"/>\n",
       "<text text-anchor=\"middle\" x=\"170.68\" y=\"-148.52\" font-family=\"Helvetica,sans-Serif\" font-size=\"14.00\">True</text>\n",
       "</g>\n",
       "<!-- 4 -->\n",
       "<g id=\"node5\" class=\"node\">\n",
       "<title>4</title>\n",
       "<polygon fill=\"#399de5\" stroke=\"black\" points=\"365,-119.5 248,-119.5 248,-81.5 365,-81.5 365,-119.5\"/>\n",
       "<text text-anchor=\"middle\" x=\"306.5\" y=\"-104.3\" font-family=\"Helvetica,sans-Serif\" font-size=\"14.00\">samples = 6.3%</text>\n",
       "<text text-anchor=\"middle\" x=\"306.5\" y=\"-89.3\" font-family=\"Helvetica,sans-Serif\" font-size=\"14.00\">value = [0.0, 1.0]</text>\n",
       "</g>\n",
       "<!-- 0&#45;&gt;4 -->\n",
       "<g id=\"edge4\" class=\"edge\">\n",
       "<title>0&#45;&gt;4</title>\n",
       "<path fill=\"none\" stroke=\"black\" d=\"M250.78,-162.87C261.06,-151.55 273.11,-138.27 283.37,-126.97\"/>\n",
       "<polygon fill=\"black\" stroke=\"black\" points=\"286.02,-129.26 290.15,-119.51 280.84,-124.56 286.02,-129.26\"/>\n",
       "<text text-anchor=\"middle\" x=\"291.35\" y=\"-140.78\" font-family=\"Helvetica,sans-Serif\" font-size=\"14.00\">False</text>\n",
       "</g>\n",
       "<!-- 2 -->\n",
       "<g id=\"node3\" class=\"node\">\n",
       "<title>2</title>\n",
       "<polygon fill=\"#fae5d5\" stroke=\"black\" points=\"147,-38 0,-38 0,0 147,0 147,-38\"/>\n",
       "<text text-anchor=\"middle\" x=\"73.5\" y=\"-22.8\" font-family=\"Helvetica,sans-Serif\" font-size=\"14.00\">samples = 85.9%</text>\n",
       "<text text-anchor=\"middle\" x=\"73.5\" y=\"-7.8\" font-family=\"Helvetica,sans-Serif\" font-size=\"14.00\">value = [0.559, 0.441]</text>\n",
       "</g>\n",
       "<!-- 1&#45;&gt;2 -->\n",
       "<g id=\"edge2\" class=\"edge\">\n",
       "<title>1&#45;&gt;2</title>\n",
       "<path fill=\"none\" stroke=\"black\" d=\"M124.36,-73.91C115.79,-64.83 106.16,-54.62 97.6,-45.54\"/>\n",
       "<polygon fill=\"black\" stroke=\"black\" points=\"100.11,-43.11 90.71,-38.24 95.02,-47.91 100.11,-43.11\"/>\n",
       "</g>\n",
       "<!-- 3 -->\n",
       "<g id=\"node4\" class=\"node\">\n",
       "<title>3</title>\n",
       "<polygon fill=\"#399de5\" stroke=\"black\" points=\"282,-38 165,-38 165,0 282,0 282,-38\"/>\n",
       "<text text-anchor=\"middle\" x=\"223.5\" y=\"-22.8\" font-family=\"Helvetica,sans-Serif\" font-size=\"14.00\">samples = 7.8%</text>\n",
       "<text text-anchor=\"middle\" x=\"223.5\" y=\"-7.8\" font-family=\"Helvetica,sans-Serif\" font-size=\"14.00\">value = [0.0, 1.0]</text>\n",
       "</g>\n",
       "<!-- 1&#45;&gt;3 -->\n",
       "<g id=\"edge3\" class=\"edge\">\n",
       "<title>1&#45;&gt;3</title>\n",
       "<path fill=\"none\" stroke=\"black\" d=\"M172.64,-73.91C181.21,-64.83 190.84,-54.62 199.4,-45.54\"/>\n",
       "<polygon fill=\"black\" stroke=\"black\" points=\"201.98,-47.91 206.29,-38.24 196.89,-43.11 201.98,-47.91\"/>\n",
       "</g>\n",
       "</g>\n",
       "</svg>\n"
      ],
      "text/plain": [
       "<graphviz.sources.Source at 0x1e8ac46ae00>"
      ]
     },
     "metadata": {},
     "output_type": "display_data"
    },
    {
     "data": {
      "image/svg+xml": [
       "<?xml version=\"1.0\" encoding=\"UTF-8\" standalone=\"no\"?>\n",
       "<!DOCTYPE svg PUBLIC \"-//W3C//DTD SVG 1.1//EN\"\n",
       " \"http://www.w3.org/Graphics/SVG/1.1/DTD/svg11.dtd\">\n",
       "<!-- Generated by graphviz version 2.50.0 (0)\n",
       " -->\n",
       "<!-- Title: Tree Pages: 1 -->\n",
       "<svg width=\"372pt\" height=\"224pt\"\n",
       " viewBox=\"0.00 0.00 372.00 224.00\" xmlns=\"http://www.w3.org/2000/svg\" xmlns:xlink=\"http://www.w3.org/1999/xlink\">\n",
       "<g id=\"graph0\" class=\"graph\" transform=\"scale(1 1) rotate(0) translate(4 220)\">\n",
       "<title>Tree</title>\n",
       "<polygon fill=\"white\" stroke=\"transparent\" points=\"-4,4 -4,-220 368,-220 368,4 -4,4\"/>\n",
       "<!-- 0 -->\n",
       "<g id=\"node1\" class=\"node\">\n",
       "<title>0</title>\n",
       "<polygon fill=\"#f8fcfe\" stroke=\"black\" points=\"307.5,-216 145.5,-216 145.5,-163 307.5,-163 307.5,-216\"/>\n",
       "<text text-anchor=\"middle\" x=\"226.5\" y=\"-200.8\" font-family=\"Helvetica,sans-Serif\" font-size=\"14.00\">front_camera_18 &lt;= 0.5</text>\n",
       "<text text-anchor=\"middle\" x=\"226.5\" y=\"-185.8\" font-family=\"Helvetica,sans-Serif\" font-size=\"14.00\">samples = 100.0%</text>\n",
       "<text text-anchor=\"middle\" x=\"226.5\" y=\"-170.8\" font-family=\"Helvetica,sans-Serif\" font-size=\"14.00\">value = [0.491, 0.509]</text>\n",
       "</g>\n",
       "<!-- 1 -->\n",
       "<g id=\"node2\" class=\"node\">\n",
       "<title>1</title>\n",
       "<polygon fill=\"#fdf6f1\" stroke=\"black\" points=\"229,-127 68,-127 68,-74 229,-74 229,-127\"/>\n",
       "<text text-anchor=\"middle\" x=\"148.5\" y=\"-111.8\" font-family=\"Helvetica,sans-Serif\" font-size=\"14.00\">front_camera_11 &lt;= 0.5</text>\n",
       "<text text-anchor=\"middle\" x=\"148.5\" y=\"-96.8\" font-family=\"Helvetica,sans-Serif\" font-size=\"14.00\">samples = 95.4%</text>\n",
       "<text text-anchor=\"middle\" x=\"148.5\" y=\"-81.8\" font-family=\"Helvetica,sans-Serif\" font-size=\"14.00\">value = [0.518, 0.482]</text>\n",
       "</g>\n",
       "<!-- 0&#45;&gt;1 -->\n",
       "<g id=\"edge1\" class=\"edge\">\n",
       "<title>0&#45;&gt;1</title>\n",
       "<path fill=\"none\" stroke=\"black\" d=\"M203.52,-162.87C195.66,-154.1 186.74,-144.15 178.41,-134.86\"/>\n",
       "<polygon fill=\"black\" stroke=\"black\" points=\"180.87,-132.36 171.59,-127.25 175.66,-137.03 180.87,-132.36\"/>\n",
       "<text text-anchor=\"middle\" x=\"170.22\" y=\"-148.51\" font-family=\"Helvetica,sans-Serif\" font-size=\"14.00\">True</text>\n",
       "</g>\n",
       "<!-- 4 -->\n",
       "<g id=\"node5\" class=\"node\">\n",
       "<title>4</title>\n",
       "<polygon fill=\"#399de5\" stroke=\"black\" points=\"364,-119.5 247,-119.5 247,-81.5 364,-81.5 364,-119.5\"/>\n",
       "<text text-anchor=\"middle\" x=\"305.5\" y=\"-104.3\" font-family=\"Helvetica,sans-Serif\" font-size=\"14.00\">samples = 4.6%</text>\n",
       "<text text-anchor=\"middle\" x=\"305.5\" y=\"-89.3\" font-family=\"Helvetica,sans-Serif\" font-size=\"14.00\">value = [0.0, 1.0]</text>\n",
       "</g>\n",
       "<!-- 0&#45;&gt;4 -->\n",
       "<g id=\"edge4\" class=\"edge\">\n",
       "<title>0&#45;&gt;4</title>\n",
       "<path fill=\"none\" stroke=\"black\" d=\"M249.78,-162.87C260.06,-151.55 272.11,-138.27 282.37,-126.97\"/>\n",
       "<polygon fill=\"black\" stroke=\"black\" points=\"285.02,-129.26 289.15,-119.51 279.84,-124.56 285.02,-129.26\"/>\n",
       "<text text-anchor=\"middle\" x=\"290.35\" y=\"-140.78\" font-family=\"Helvetica,sans-Serif\" font-size=\"14.00\">False</text>\n",
       "</g>\n",
       "<!-- 2 -->\n",
       "<g id=\"node3\" class=\"node\">\n",
       "<title>2</title>\n",
       "<polygon fill=\"#f8deca\" stroke=\"black\" points=\"147,-38 0,-38 0,0 147,0 147,-38\"/>\n",
       "<text text-anchor=\"middle\" x=\"73.5\" y=\"-22.8\" font-family=\"Helvetica,sans-Serif\" font-size=\"14.00\">samples = 86.4%</text>\n",
       "<text text-anchor=\"middle\" x=\"73.5\" y=\"-7.8\" font-family=\"Helvetica,sans-Serif\" font-size=\"14.00\">value = [0.577, 0.423]</text>\n",
       "</g>\n",
       "<!-- 1&#45;&gt;2 -->\n",
       "<g id=\"edge2\" class=\"edge\">\n",
       "<title>1&#45;&gt;2</title>\n",
       "<path fill=\"none\" stroke=\"black\" d=\"M124.36,-73.91C115.79,-64.83 106.16,-54.62 97.6,-45.54\"/>\n",
       "<polygon fill=\"black\" stroke=\"black\" points=\"100.11,-43.11 90.71,-38.24 95.02,-47.91 100.11,-43.11\"/>\n",
       "</g>\n",
       "<!-- 3 -->\n",
       "<g id=\"node4\" class=\"node\">\n",
       "<title>3</title>\n",
       "<polygon fill=\"#399de5\" stroke=\"black\" points=\"282,-38 165,-38 165,0 282,0 282,-38\"/>\n",
       "<text text-anchor=\"middle\" x=\"223.5\" y=\"-22.8\" font-family=\"Helvetica,sans-Serif\" font-size=\"14.00\">samples = 9.0%</text>\n",
       "<text text-anchor=\"middle\" x=\"223.5\" y=\"-7.8\" font-family=\"Helvetica,sans-Serif\" font-size=\"14.00\">value = [0.0, 1.0]</text>\n",
       "</g>\n",
       "<!-- 1&#45;&gt;3 -->\n",
       "<g id=\"edge3\" class=\"edge\">\n",
       "<title>1&#45;&gt;3</title>\n",
       "<path fill=\"none\" stroke=\"black\" d=\"M172.64,-73.91C181.21,-64.83 190.84,-54.62 199.4,-45.54\"/>\n",
       "<polygon fill=\"black\" stroke=\"black\" points=\"201.98,-47.91 206.29,-38.24 196.89,-43.11 201.98,-47.91\"/>\n",
       "</g>\n",
       "</g>\n",
       "</svg>\n"
      ],
      "text/plain": [
       "<graphviz.sources.Source at 0x1e8ac46ac50>"
      ]
     },
     "metadata": {},
     "output_type": "display_data"
    },
    {
     "data": {
      "image/svg+xml": [
       "<?xml version=\"1.0\" encoding=\"UTF-8\" standalone=\"no\"?>\n",
       "<!DOCTYPE svg PUBLIC \"-//W3C//DTD SVG 1.1//EN\"\n",
       " \"http://www.w3.org/Graphics/SVG/1.1/DTD/svg11.dtd\">\n",
       "<!-- Generated by graphviz version 2.50.0 (0)\n",
       " -->\n",
       "<!-- Title: Tree Pages: 1 -->\n",
       "<svg width=\"366pt\" height=\"224pt\"\n",
       " viewBox=\"0.00 0.00 366.00 224.00\" xmlns=\"http://www.w3.org/2000/svg\" xmlns:xlink=\"http://www.w3.org/1999/xlink\">\n",
       "<g id=\"graph0\" class=\"graph\" transform=\"scale(1 1) rotate(0) translate(4 220)\">\n",
       "<title>Tree</title>\n",
       "<polygon fill=\"white\" stroke=\"transparent\" points=\"-4,4 -4,-220 362,-220 362,4 -4,4\"/>\n",
       "<!-- 0 -->\n",
       "<g id=\"node1\" class=\"node\">\n",
       "<title>0</title>\n",
       "<polygon fill=\"#fbfdff\" stroke=\"black\" points=\"301,-216 146,-216 146,-163 301,-163 301,-216\"/>\n",
       "<text text-anchor=\"middle\" x=\"223.5\" y=\"-200.8\" font-family=\"Helvetica,sans-Serif\" font-size=\"14.00\">front_camera_5 &lt;= 0.5</text>\n",
       "<text text-anchor=\"middle\" x=\"223.5\" y=\"-185.8\" font-family=\"Helvetica,sans-Serif\" font-size=\"14.00\">samples = 100.0%</text>\n",
       "<text text-anchor=\"middle\" x=\"223.5\" y=\"-170.8\" font-family=\"Helvetica,sans-Serif\" font-size=\"14.00\">value = [0.496, 0.504]</text>\n",
       "</g>\n",
       "<!-- 1 -->\n",
       "<g id=\"node2\" class=\"node\">\n",
       "<title>1</title>\n",
       "<polygon fill=\"#e1f0fb\" stroke=\"black\" points=\"223,-127 74,-127 74,-74 223,-74 223,-127\"/>\n",
       "<text text-anchor=\"middle\" x=\"148.5\" y=\"-111.8\" font-family=\"Helvetica,sans-Serif\" font-size=\"14.00\">battery_type_1 &lt;= 0.5</text>\n",
       "<text text-anchor=\"middle\" x=\"148.5\" y=\"-96.8\" font-family=\"Helvetica,sans-Serif\" font-size=\"14.00\">samples = 92.6%</text>\n",
       "<text text-anchor=\"middle\" x=\"148.5\" y=\"-81.8\" font-family=\"Helvetica,sans-Serif\" font-size=\"14.00\">value = [0.459, 0.541]</text>\n",
       "</g>\n",
       "<!-- 0&#45;&gt;1 -->\n",
       "<g id=\"edge1\" class=\"edge\">\n",
       "<title>0&#45;&gt;1</title>\n",
       "<path fill=\"none\" stroke=\"black\" d=\"M201.4,-162.87C193.84,-154.1 185.27,-144.15 177.26,-134.86\"/>\n",
       "<polygon fill=\"black\" stroke=\"black\" points=\"179.88,-132.54 170.7,-127.25 174.58,-137.11 179.88,-132.54\"/>\n",
       "<text text-anchor=\"middle\" x=\"168.85\" y=\"-148.48\" font-family=\"Helvetica,sans-Serif\" font-size=\"14.00\">True</text>\n",
       "</g>\n",
       "<!-- 4 -->\n",
       "<g id=\"node5\" class=\"node\">\n",
       "<title>4</title>\n",
       "<polygon fill=\"#e58139\" stroke=\"black\" points=\"358,-119.5 241,-119.5 241,-81.5 358,-81.5 358,-119.5\"/>\n",
       "<text text-anchor=\"middle\" x=\"299.5\" y=\"-104.3\" font-family=\"Helvetica,sans-Serif\" font-size=\"14.00\">samples = 7.4%</text>\n",
       "<text text-anchor=\"middle\" x=\"299.5\" y=\"-89.3\" font-family=\"Helvetica,sans-Serif\" font-size=\"14.00\">value = [1.0, 0.0]</text>\n",
       "</g>\n",
       "<!-- 0&#45;&gt;4 -->\n",
       "<g id=\"edge4\" class=\"edge\">\n",
       "<title>0&#45;&gt;4</title>\n",
       "<path fill=\"none\" stroke=\"black\" d=\"M245.89,-162.87C255.69,-151.66 267.16,-138.53 276.97,-127.29\"/>\n",
       "<polygon fill=\"black\" stroke=\"black\" points=\"279.83,-129.34 283.77,-119.51 274.56,-124.74 279.83,-129.34\"/>\n",
       "<text text-anchor=\"middle\" x=\"285.45\" y=\"-140.75\" font-family=\"Helvetica,sans-Serif\" font-size=\"14.00\">False</text>\n",
       "</g>\n",
       "<!-- 2 -->\n",
       "<g id=\"node3\" class=\"node\">\n",
       "<title>2</title>\n",
       "<polygon fill=\"#fdfeff\" stroke=\"black\" points=\"147,-38 0,-38 0,0 147,0 147,-38\"/>\n",
       "<text text-anchor=\"middle\" x=\"73.5\" y=\"-22.8\" font-family=\"Helvetica,sans-Serif\" font-size=\"14.00\">samples = 86.0%</text>\n",
       "<text text-anchor=\"middle\" x=\"73.5\" y=\"-7.8\" font-family=\"Helvetica,sans-Serif\" font-size=\"14.00\">value = [0.498, 0.502]</text>\n",
       "</g>\n",
       "<!-- 1&#45;&gt;2 -->\n",
       "<g id=\"edge2\" class=\"edge\">\n",
       "<title>1&#45;&gt;2</title>\n",
       "<path fill=\"none\" stroke=\"black\" d=\"M124.36,-73.91C115.79,-64.83 106.16,-54.62 97.6,-45.54\"/>\n",
       "<polygon fill=\"black\" stroke=\"black\" points=\"100.11,-43.11 90.71,-38.24 95.02,-47.91 100.11,-43.11\"/>\n",
       "</g>\n",
       "<!-- 3 -->\n",
       "<g id=\"node4\" class=\"node\">\n",
       "<title>3</title>\n",
       "<polygon fill=\"#399de5\" stroke=\"black\" points=\"282,-38 165,-38 165,0 282,0 282,-38\"/>\n",
       "<text text-anchor=\"middle\" x=\"223.5\" y=\"-22.8\" font-family=\"Helvetica,sans-Serif\" font-size=\"14.00\">samples = 6.6%</text>\n",
       "<text text-anchor=\"middle\" x=\"223.5\" y=\"-7.8\" font-family=\"Helvetica,sans-Serif\" font-size=\"14.00\">value = [0.0, 1.0]</text>\n",
       "</g>\n",
       "<!-- 1&#45;&gt;3 -->\n",
       "<g id=\"edge3\" class=\"edge\">\n",
       "<title>1&#45;&gt;3</title>\n",
       "<path fill=\"none\" stroke=\"black\" d=\"M172.64,-73.91C181.21,-64.83 190.84,-54.62 199.4,-45.54\"/>\n",
       "<polygon fill=\"black\" stroke=\"black\" points=\"201.98,-47.91 206.29,-38.24 196.89,-43.11 201.98,-47.91\"/>\n",
       "</g>\n",
       "</g>\n",
       "</svg>\n"
      ],
      "text/plain": [
       "<graphviz.sources.Source at 0x1e8a8d97520>"
      ]
     },
     "metadata": {},
     "output_type": "display_data"
    }
   ],
   "source": [
    "for i in range(3):\n",
    "    tree = classifier.estimators_[i]\n",
    "    dot_data = export_graphviz(tree,\n",
    "                               feature_names=x_train.columns,  \n",
    "                               filled=True,  \n",
    "                               max_depth=2, \n",
    "                               impurity=False, \n",
    "                               proportion=True)\n",
    "    graph = graphviz.Source(dot_data)\n",
    "    display(graph)"
   ]
  },
  {
   "cell_type": "code",
   "execution_count": 23,
   "id": "e648590a",
   "metadata": {},
   "outputs": [
    {
     "data": {
      "text/html": [
       "<style>#sk-container-id-2 {color: black;background-color: white;}#sk-container-id-2 pre{padding: 0;}#sk-container-id-2 div.sk-toggleable {background-color: white;}#sk-container-id-2 label.sk-toggleable__label {cursor: pointer;display: block;width: 100%;margin-bottom: 0;padding: 0.3em;box-sizing: border-box;text-align: center;}#sk-container-id-2 label.sk-toggleable__label-arrow:before {content: \"▸\";float: left;margin-right: 0.25em;color: #696969;}#sk-container-id-2 label.sk-toggleable__label-arrow:hover:before {color: black;}#sk-container-id-2 div.sk-estimator:hover label.sk-toggleable__label-arrow:before {color: black;}#sk-container-id-2 div.sk-toggleable__content {max-height: 0;max-width: 0;overflow: hidden;text-align: left;background-color: #f0f8ff;}#sk-container-id-2 div.sk-toggleable__content pre {margin: 0.2em;color: black;border-radius: 0.25em;background-color: #f0f8ff;}#sk-container-id-2 input.sk-toggleable__control:checked~div.sk-toggleable__content {max-height: 200px;max-width: 100%;overflow: auto;}#sk-container-id-2 input.sk-toggleable__control:checked~label.sk-toggleable__label-arrow:before {content: \"▾\";}#sk-container-id-2 div.sk-estimator input.sk-toggleable__control:checked~label.sk-toggleable__label {background-color: #d4ebff;}#sk-container-id-2 div.sk-label input.sk-toggleable__control:checked~label.sk-toggleable__label {background-color: #d4ebff;}#sk-container-id-2 input.sk-hidden--visually {border: 0;clip: rect(1px 1px 1px 1px);clip: rect(1px, 1px, 1px, 1px);height: 1px;margin: -1px;overflow: hidden;padding: 0;position: absolute;width: 1px;}#sk-container-id-2 div.sk-estimator {font-family: monospace;background-color: #f0f8ff;border: 1px dotted black;border-radius: 0.25em;box-sizing: border-box;margin-bottom: 0.5em;}#sk-container-id-2 div.sk-estimator:hover {background-color: #d4ebff;}#sk-container-id-2 div.sk-parallel-item::after {content: \"\";width: 100%;border-bottom: 1px solid gray;flex-grow: 1;}#sk-container-id-2 div.sk-label:hover label.sk-toggleable__label {background-color: #d4ebff;}#sk-container-id-2 div.sk-serial::before {content: \"\";position: absolute;border-left: 1px solid gray;box-sizing: border-box;top: 0;bottom: 0;left: 50%;z-index: 0;}#sk-container-id-2 div.sk-serial {display: flex;flex-direction: column;align-items: center;background-color: white;padding-right: 0.2em;padding-left: 0.2em;position: relative;}#sk-container-id-2 div.sk-item {position: relative;z-index: 1;}#sk-container-id-2 div.sk-parallel {display: flex;align-items: stretch;justify-content: center;background-color: white;position: relative;}#sk-container-id-2 div.sk-item::before, #sk-container-id-2 div.sk-parallel-item::before {content: \"\";position: absolute;border-left: 1px solid gray;box-sizing: border-box;top: 0;bottom: 0;left: 50%;z-index: -1;}#sk-container-id-2 div.sk-parallel-item {display: flex;flex-direction: column;z-index: 1;position: relative;background-color: white;}#sk-container-id-2 div.sk-parallel-item:first-child::after {align-self: flex-end;width: 50%;}#sk-container-id-2 div.sk-parallel-item:last-child::after {align-self: flex-start;width: 50%;}#sk-container-id-2 div.sk-parallel-item:only-child::after {width: 0;}#sk-container-id-2 div.sk-dashed-wrapped {border: 1px dashed gray;margin: 0 0.4em 0.5em 0.4em;box-sizing: border-box;padding-bottom: 0.4em;background-color: white;}#sk-container-id-2 div.sk-label label {font-family: monospace;font-weight: bold;display: inline-block;line-height: 1.2em;}#sk-container-id-2 div.sk-label-container {text-align: center;}#sk-container-id-2 div.sk-container {/* jupyter's `normalize.less` sets `[hidden] { display: none; }` but bootstrap.min.css set `[hidden] { display: none !important; }` so we also need the `!important` here to be able to override the default hidden behavior on the sphinx rendered scikit-learn.org. See: https://github.com/scikit-learn/scikit-learn/issues/21755 */display: inline-block !important;position: relative;}#sk-container-id-2 div.sk-text-repr-fallback {display: none;}</style><div id=\"sk-container-id-2\" class=\"sk-top-container\"><div class=\"sk-text-repr-fallback\"><pre>RandomForestClassifier(max_depth=2, n_estimators=50, random_state=100)</pre><b>In a Jupyter environment, please rerun this cell to show the HTML representation or trust the notebook. <br />On GitHub, the HTML representation is unable to render, please try loading this page with nbviewer.org.</b></div><div class=\"sk-container\" hidden><div class=\"sk-item\"><div class=\"sk-estimator sk-toggleable\"><input class=\"sk-toggleable__control sk-hidden--visually\" id=\"sk-estimator-id-2\" type=\"checkbox\" checked><label for=\"sk-estimator-id-2\" class=\"sk-toggleable__label sk-toggleable__label-arrow\">RandomForestClassifier</label><div class=\"sk-toggleable__content\"><pre>RandomForestClassifier(max_depth=2, n_estimators=50, random_state=100)</pre></div></div></div></div></div>"
      ],
      "text/plain": [
       "RandomForestClassifier(max_depth=2, n_estimators=50, random_state=100)"
      ]
     },
     "execution_count": 23,
     "metadata": {},
     "output_type": "execute_result"
    }
   ],
   "source": [
    "\n",
    "clf = classifier\n",
    "clf.fit(x_train, y_train)"
   ]
  },
  {
   "cell_type": "code",
   "execution_count": 24,
   "id": "bbebbf81",
   "metadata": {},
   "outputs": [
    {
     "data": {
      "text/plain": [
       "array([1], dtype=int64)"
      ]
     },
     "execution_count": 24,
     "metadata": {},
     "output_type": "execute_result"
    }
   ],
   "source": [
    "import pickle\n",
    "s = pickle.dumps(clf)\n",
    "clf = pickle.loads(s)\n",
    "clf.predict(x_train[0:1])"
   ]
  },
  {
   "cell_type": "code",
   "execution_count": 25,
   "id": "2073dd98",
   "metadata": {},
   "outputs": [
    {
     "data": {
      "text/plain": [
       "672     1\n",
       "299     0\n",
       "188     0\n",
       "1331    0\n",
       "1013    0\n",
       "       ..\n",
       "1162    0\n",
       "193     1\n",
       "211     0\n",
       "1056    0\n",
       "709     1\n",
       "Name: Label, Length: 1120, dtype: int64"
      ]
     },
     "execution_count": 25,
     "metadata": {},
     "output_type": "execute_result"
    }
   ],
   "source": [
    "y_train"
   ]
  },
  {
   "cell_type": "code",
   "execution_count": 26,
   "id": "b0d2b920",
   "metadata": {},
   "outputs": [
    {
     "data": {
      "text/plain": [
       "['filename.joblib']"
      ]
     },
     "execution_count": 26,
     "metadata": {},
     "output_type": "execute_result"
    }
   ],
   "source": [
    "from joblib import dump, load\n",
    "dump(clf, 'filename.joblib') "
   ]
  },
  {
   "cell_type": "code",
   "execution_count": 27,
   "id": "1f8baeb0",
   "metadata": {},
   "outputs": [],
   "source": [
    "clf = load('filename.joblib')"
   ]
  }
 ],
 "metadata": {
  "kernelspec": {
   "display_name": "Python 3 (ipykernel)",
   "language": "python",
   "name": "python3"
  },
  "language_info": {
   "codemirror_mode": {
    "name": "ipython",
    "version": 3
   },
   "file_extension": ".py",
   "mimetype": "text/x-python",
   "name": "python",
   "nbconvert_exporter": "python",
   "pygments_lexer": "ipython3",
   "version": "3.10.9"
  }
 },
 "nbformat": 4,
 "nbformat_minor": 5
}
