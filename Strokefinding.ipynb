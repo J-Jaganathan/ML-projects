{
 "cells": [
  {
   "cell_type": "code",
   "execution_count": 1,
   "id": "78c4b6c9",
   "metadata": {},
   "outputs": [],
   "source": [
    "import numpy as np\n",
    "import pandas as pd "
   ]
  },
  {
   "cell_type": "code",
   "execution_count": 2,
   "id": "45e52c0f",
   "metadata": {},
   "outputs": [],
   "source": [
    "df=pd.read_csv(r'C:\\Users\\hp\\Desktop\\Data\\healthcare-dataset-stroke-data.csv')"
   ]
  },
  {
   "cell_type": "code",
   "execution_count": 3,
   "id": "3e4e4ede",
   "metadata": {},
   "outputs": [
    {
     "data": {
      "text/html": [
       "<div>\n",
       "<style scoped>\n",
       "    .dataframe tbody tr th:only-of-type {\n",
       "        vertical-align: middle;\n",
       "    }\n",
       "\n",
       "    .dataframe tbody tr th {\n",
       "        vertical-align: top;\n",
       "    }\n",
       "\n",
       "    .dataframe thead th {\n",
       "        text-align: right;\n",
       "    }\n",
       "</style>\n",
       "<table border=\"1\" class=\"dataframe\">\n",
       "  <thead>\n",
       "    <tr style=\"text-align: right;\">\n",
       "      <th></th>\n",
       "      <th>id</th>\n",
       "      <th>gender</th>\n",
       "      <th>age</th>\n",
       "      <th>hypertension</th>\n",
       "      <th>heart_disease</th>\n",
       "      <th>ever_married</th>\n",
       "      <th>work_type</th>\n",
       "      <th>Residence_type</th>\n",
       "      <th>avg_glucose_level</th>\n",
       "      <th>bmi</th>\n",
       "      <th>smoking_status</th>\n",
       "      <th>stroke</th>\n",
       "    </tr>\n",
       "  </thead>\n",
       "  <tbody>\n",
       "    <tr>\n",
       "      <th>0</th>\n",
       "      <td>9046</td>\n",
       "      <td>Male</td>\n",
       "      <td>67.0</td>\n",
       "      <td>0</td>\n",
       "      <td>1</td>\n",
       "      <td>Yes</td>\n",
       "      <td>Private</td>\n",
       "      <td>Urban</td>\n",
       "      <td>228.69</td>\n",
       "      <td>36.6</td>\n",
       "      <td>formerly smoked</td>\n",
       "      <td>1</td>\n",
       "    </tr>\n",
       "    <tr>\n",
       "      <th>1</th>\n",
       "      <td>51676</td>\n",
       "      <td>Female</td>\n",
       "      <td>61.0</td>\n",
       "      <td>0</td>\n",
       "      <td>0</td>\n",
       "      <td>Yes</td>\n",
       "      <td>Self-employed</td>\n",
       "      <td>Rural</td>\n",
       "      <td>202.21</td>\n",
       "      <td>NaN</td>\n",
       "      <td>never smoked</td>\n",
       "      <td>1</td>\n",
       "    </tr>\n",
       "    <tr>\n",
       "      <th>2</th>\n",
       "      <td>31112</td>\n",
       "      <td>Male</td>\n",
       "      <td>80.0</td>\n",
       "      <td>0</td>\n",
       "      <td>1</td>\n",
       "      <td>Yes</td>\n",
       "      <td>Private</td>\n",
       "      <td>Rural</td>\n",
       "      <td>105.92</td>\n",
       "      <td>32.5</td>\n",
       "      <td>never smoked</td>\n",
       "      <td>1</td>\n",
       "    </tr>\n",
       "    <tr>\n",
       "      <th>3</th>\n",
       "      <td>60182</td>\n",
       "      <td>Female</td>\n",
       "      <td>49.0</td>\n",
       "      <td>0</td>\n",
       "      <td>0</td>\n",
       "      <td>Yes</td>\n",
       "      <td>Private</td>\n",
       "      <td>Urban</td>\n",
       "      <td>171.23</td>\n",
       "      <td>34.4</td>\n",
       "      <td>smokes</td>\n",
       "      <td>1</td>\n",
       "    </tr>\n",
       "    <tr>\n",
       "      <th>4</th>\n",
       "      <td>1665</td>\n",
       "      <td>Female</td>\n",
       "      <td>79.0</td>\n",
       "      <td>1</td>\n",
       "      <td>0</td>\n",
       "      <td>Yes</td>\n",
       "      <td>Self-employed</td>\n",
       "      <td>Rural</td>\n",
       "      <td>174.12</td>\n",
       "      <td>24.0</td>\n",
       "      <td>never smoked</td>\n",
       "      <td>1</td>\n",
       "    </tr>\n",
       "  </tbody>\n",
       "</table>\n",
       "</div>"
      ],
      "text/plain": [
       "      id  gender   age  hypertension  heart_disease ever_married  \\\n",
       "0   9046    Male  67.0             0              1          Yes   \n",
       "1  51676  Female  61.0             0              0          Yes   \n",
       "2  31112    Male  80.0             0              1          Yes   \n",
       "3  60182  Female  49.0             0              0          Yes   \n",
       "4   1665  Female  79.0             1              0          Yes   \n",
       "\n",
       "       work_type Residence_type  avg_glucose_level   bmi   smoking_status  \\\n",
       "0        Private          Urban             228.69  36.6  formerly smoked   \n",
       "1  Self-employed          Rural             202.21   NaN     never smoked   \n",
       "2        Private          Rural             105.92  32.5     never smoked   \n",
       "3        Private          Urban             171.23  34.4           smokes   \n",
       "4  Self-employed          Rural             174.12  24.0     never smoked   \n",
       "\n",
       "   stroke  \n",
       "0       1  \n",
       "1       1  \n",
       "2       1  \n",
       "3       1  \n",
       "4       1  "
      ]
     },
     "execution_count": 3,
     "metadata": {},
     "output_type": "execute_result"
    }
   ],
   "source": [
    "df.head()"
   ]
  },
  {
   "cell_type": "code",
   "execution_count": 4,
   "id": "8f2138eb",
   "metadata": {},
   "outputs": [
    {
     "data": {
      "text/plain": [
       "id                     0\n",
       "gender                 0\n",
       "age                    0\n",
       "hypertension           0\n",
       "heart_disease          0\n",
       "ever_married           0\n",
       "work_type              0\n",
       "Residence_type         0\n",
       "avg_glucose_level      0\n",
       "bmi                  201\n",
       "smoking_status         0\n",
       "stroke                 0\n",
       "dtype: int64"
      ]
     },
     "execution_count": 4,
     "metadata": {},
     "output_type": "execute_result"
    }
   ],
   "source": [
    "df.isnull().sum()"
   ]
  },
  {
   "cell_type": "code",
   "execution_count": 5,
   "id": "c10cdc23",
   "metadata": {},
   "outputs": [],
   "source": [
    "df['bmi'].fillna(int(df['bmi'].mean()), inplace = True)"
   ]
  },
  {
   "cell_type": "code",
   "execution_count": 6,
   "id": "48127348",
   "metadata": {},
   "outputs": [
    {
     "data": {
      "text/plain": [
       "id                   5110\n",
       "gender               5110\n",
       "age                  5110\n",
       "hypertension         5110\n",
       "heart_disease        5110\n",
       "ever_married         5110\n",
       "work_type            5110\n",
       "Residence_type       5110\n",
       "avg_glucose_level    5110\n",
       "bmi                  5110\n",
       "smoking_status       5110\n",
       "stroke               5110\n",
       "dtype: int64"
      ]
     },
     "execution_count": 6,
     "metadata": {},
     "output_type": "execute_result"
    }
   ],
   "source": [
    "df.isnull().count()"
   ]
  },
  {
   "cell_type": "code",
   "execution_count": 7,
   "id": "4acf018f",
   "metadata": {},
   "outputs": [
    {
     "name": "stdout",
     "output_type": "stream",
     "text": [
      "There are 5 categorical variables\n",
      "\n",
      "The categorical variables are :\n",
      "\n",
      " ['gender', 'ever_married', 'work_type', 'Residence_type', 'smoking_status']\n"
     ]
    }
   ],
   "source": [
    "categorical = [var for var in df.columns if df[var].dtype=='O']\n",
    "\n",
    "print('There are {} categorical variables\\n'.format(len(categorical)))\n",
    "\n",
    "print('The categorical variables are :\\n\\n', categorical)"
   ]
  },
  {
   "cell_type": "code",
   "execution_count": 8,
   "id": "a6658249",
   "metadata": {},
   "outputs": [
    {
     "name": "stdout",
     "output_type": "stream",
     "text": [
      "Female    2994\n",
      "Male      2115\n",
      "Other        1\n",
      "Name: gender, dtype: int64\n",
      "Yes    3353\n",
      "No     1757\n",
      "Name: ever_married, dtype: int64\n",
      "Private          2925\n",
      "Self-employed     819\n",
      "children          687\n",
      "Govt_job          657\n",
      "Never_worked       22\n",
      "Name: work_type, dtype: int64\n",
      "Urban    2596\n",
      "Rural    2514\n",
      "Name: Residence_type, dtype: int64\n",
      "never smoked       1892\n",
      "Unknown            1544\n",
      "formerly smoked     885\n",
      "smokes              789\n",
      "Name: smoking_status, dtype: int64\n"
     ]
    }
   ],
   "source": [
    "for var in categorical:\n",
    "    \n",
    "    print(df[var].value_counts())"
   ]
  },
  {
   "cell_type": "code",
   "execution_count": 9,
   "id": "03ce03ac",
   "metadata": {},
   "outputs": [
    {
     "data": {
      "text/plain": [
       "0    4861\n",
       "1     249\n",
       "Name: stroke, dtype: int64"
      ]
     },
     "execution_count": 9,
     "metadata": {},
     "output_type": "execute_result"
    }
   ],
   "source": [
    "df['stroke'].value_counts()"
   ]
  },
  {
   "cell_type": "code",
   "execution_count": 10,
   "id": "85dc221f",
   "metadata": {},
   "outputs": [
    {
     "data": {
      "text/plain": [
       "stroke  heart_disease\n",
       "0       0                4632\n",
       "        1                 229\n",
       "1       0                 202\n",
       "        1                  47\n",
       "Name: heart_disease, dtype: int64"
      ]
     },
     "execution_count": 10,
     "metadata": {},
     "output_type": "execute_result"
    }
   ],
   "source": [
    "df.groupby('stroke').heart_disease.value_counts()"
   ]
  },
  {
   "cell_type": "code",
   "execution_count": 11,
   "id": "ee8fdeaa",
   "metadata": {},
   "outputs": [
    {
     "data": {
      "text/plain": [
       "stroke  work_type    \n",
       "0       Private          2776\n",
       "        Self-employed     754\n",
       "        children          685\n",
       "        Govt_job          624\n",
       "        Never_worked       22\n",
       "1       Private           149\n",
       "        Self-employed      65\n",
       "        Govt_job           33\n",
       "        children            2\n",
       "Name: work_type, dtype: int64"
      ]
     },
     "execution_count": 11,
     "metadata": {},
     "output_type": "execute_result"
    }
   ],
   "source": [
    "df.groupby('stroke').work_type.value_counts()"
   ]
  },
  {
   "cell_type": "code",
   "execution_count": 12,
   "id": "3f658b30",
   "metadata": {},
   "outputs": [
    {
     "data": {
      "text/plain": [
       "stroke  smoking_status \n",
       "0       never smoked       1802\n",
       "        Unknown            1497\n",
       "        formerly smoked     815\n",
       "        smokes              747\n",
       "1       never smoked         90\n",
       "        formerly smoked      70\n",
       "        Unknown              47\n",
       "        smokes               42\n",
       "Name: smoking_status, dtype: int64"
      ]
     },
     "execution_count": 12,
     "metadata": {},
     "output_type": "execute_result"
    }
   ],
   "source": [
    "df.groupby('stroke').smoking_status.value_counts()"
   ]
  },
  {
   "cell_type": "code",
   "execution_count": 13,
   "id": "9b784a4b",
   "metadata": {},
   "outputs": [
    {
     "data": {
      "text/html": [
       "<div>\n",
       "<style scoped>\n",
       "    .dataframe tbody tr th:only-of-type {\n",
       "        vertical-align: middle;\n",
       "    }\n",
       "\n",
       "    .dataframe tbody tr th {\n",
       "        vertical-align: top;\n",
       "    }\n",
       "\n",
       "    .dataframe thead th {\n",
       "        text-align: right;\n",
       "    }\n",
       "</style>\n",
       "<table border=\"1\" class=\"dataframe\">\n",
       "  <thead>\n",
       "    <tr style=\"text-align: right;\">\n",
       "      <th></th>\n",
       "      <th>age</th>\n",
       "      <th>hypertension</th>\n",
       "      <th>heart_disease</th>\n",
       "      <th>work_type</th>\n",
       "      <th>Residence_type</th>\n",
       "      <th>avg_glucose_level</th>\n",
       "      <th>bmi</th>\n",
       "      <th>smoking_status</th>\n",
       "      <th>stroke</th>\n",
       "    </tr>\n",
       "  </thead>\n",
       "  <tbody>\n",
       "    <tr>\n",
       "      <th>0</th>\n",
       "      <td>67.0</td>\n",
       "      <td>0</td>\n",
       "      <td>1</td>\n",
       "      <td>Private</td>\n",
       "      <td>Urban</td>\n",
       "      <td>228.69</td>\n",
       "      <td>36.6</td>\n",
       "      <td>formerly smoked</td>\n",
       "      <td>1</td>\n",
       "    </tr>\n",
       "    <tr>\n",
       "      <th>1</th>\n",
       "      <td>61.0</td>\n",
       "      <td>0</td>\n",
       "      <td>0</td>\n",
       "      <td>Self-employed</td>\n",
       "      <td>Rural</td>\n",
       "      <td>202.21</td>\n",
       "      <td>28.0</td>\n",
       "      <td>never smoked</td>\n",
       "      <td>1</td>\n",
       "    </tr>\n",
       "    <tr>\n",
       "      <th>2</th>\n",
       "      <td>80.0</td>\n",
       "      <td>0</td>\n",
       "      <td>1</td>\n",
       "      <td>Private</td>\n",
       "      <td>Rural</td>\n",
       "      <td>105.92</td>\n",
       "      <td>32.5</td>\n",
       "      <td>never smoked</td>\n",
       "      <td>1</td>\n",
       "    </tr>\n",
       "    <tr>\n",
       "      <th>3</th>\n",
       "      <td>49.0</td>\n",
       "      <td>0</td>\n",
       "      <td>0</td>\n",
       "      <td>Private</td>\n",
       "      <td>Urban</td>\n",
       "      <td>171.23</td>\n",
       "      <td>34.4</td>\n",
       "      <td>smokes</td>\n",
       "      <td>1</td>\n",
       "    </tr>\n",
       "    <tr>\n",
       "      <th>4</th>\n",
       "      <td>79.0</td>\n",
       "      <td>1</td>\n",
       "      <td>0</td>\n",
       "      <td>Self-employed</td>\n",
       "      <td>Rural</td>\n",
       "      <td>174.12</td>\n",
       "      <td>24.0</td>\n",
       "      <td>never smoked</td>\n",
       "      <td>1</td>\n",
       "    </tr>\n",
       "    <tr>\n",
       "      <th>...</th>\n",
       "      <td>...</td>\n",
       "      <td>...</td>\n",
       "      <td>...</td>\n",
       "      <td>...</td>\n",
       "      <td>...</td>\n",
       "      <td>...</td>\n",
       "      <td>...</td>\n",
       "      <td>...</td>\n",
       "      <td>...</td>\n",
       "    </tr>\n",
       "    <tr>\n",
       "      <th>5105</th>\n",
       "      <td>80.0</td>\n",
       "      <td>1</td>\n",
       "      <td>0</td>\n",
       "      <td>Private</td>\n",
       "      <td>Urban</td>\n",
       "      <td>83.75</td>\n",
       "      <td>28.0</td>\n",
       "      <td>never smoked</td>\n",
       "      <td>0</td>\n",
       "    </tr>\n",
       "    <tr>\n",
       "      <th>5106</th>\n",
       "      <td>81.0</td>\n",
       "      <td>0</td>\n",
       "      <td>0</td>\n",
       "      <td>Self-employed</td>\n",
       "      <td>Urban</td>\n",
       "      <td>125.20</td>\n",
       "      <td>40.0</td>\n",
       "      <td>never smoked</td>\n",
       "      <td>0</td>\n",
       "    </tr>\n",
       "    <tr>\n",
       "      <th>5107</th>\n",
       "      <td>35.0</td>\n",
       "      <td>0</td>\n",
       "      <td>0</td>\n",
       "      <td>Self-employed</td>\n",
       "      <td>Rural</td>\n",
       "      <td>82.99</td>\n",
       "      <td>30.6</td>\n",
       "      <td>never smoked</td>\n",
       "      <td>0</td>\n",
       "    </tr>\n",
       "    <tr>\n",
       "      <th>5108</th>\n",
       "      <td>51.0</td>\n",
       "      <td>0</td>\n",
       "      <td>0</td>\n",
       "      <td>Private</td>\n",
       "      <td>Rural</td>\n",
       "      <td>166.29</td>\n",
       "      <td>25.6</td>\n",
       "      <td>formerly smoked</td>\n",
       "      <td>0</td>\n",
       "    </tr>\n",
       "    <tr>\n",
       "      <th>5109</th>\n",
       "      <td>44.0</td>\n",
       "      <td>0</td>\n",
       "      <td>0</td>\n",
       "      <td>Govt_job</td>\n",
       "      <td>Urban</td>\n",
       "      <td>85.28</td>\n",
       "      <td>26.2</td>\n",
       "      <td>Unknown</td>\n",
       "      <td>0</td>\n",
       "    </tr>\n",
       "  </tbody>\n",
       "</table>\n",
       "<p>5110 rows × 9 columns</p>\n",
       "</div>"
      ],
      "text/plain": [
       "       age  hypertension  heart_disease      work_type Residence_type  \\\n",
       "0     67.0             0              1        Private          Urban   \n",
       "1     61.0             0              0  Self-employed          Rural   \n",
       "2     80.0             0              1        Private          Rural   \n",
       "3     49.0             0              0        Private          Urban   \n",
       "4     79.0             1              0  Self-employed          Rural   \n",
       "...    ...           ...            ...            ...            ...   \n",
       "5105  80.0             1              0        Private          Urban   \n",
       "5106  81.0             0              0  Self-employed          Urban   \n",
       "5107  35.0             0              0  Self-employed          Rural   \n",
       "5108  51.0             0              0        Private          Rural   \n",
       "5109  44.0             0              0       Govt_job          Urban   \n",
       "\n",
       "      avg_glucose_level   bmi   smoking_status  stroke  \n",
       "0                228.69  36.6  formerly smoked       1  \n",
       "1                202.21  28.0     never smoked       1  \n",
       "2                105.92  32.5     never smoked       1  \n",
       "3                171.23  34.4           smokes       1  \n",
       "4                174.12  24.0     never smoked       1  \n",
       "...                 ...   ...              ...     ...  \n",
       "5105              83.75  28.0     never smoked       0  \n",
       "5106             125.20  40.0     never smoked       0  \n",
       "5107              82.99  30.6     never smoked       0  \n",
       "5108             166.29  25.6  formerly smoked       0  \n",
       "5109              85.28  26.2          Unknown       0  \n",
       "\n",
       "[5110 rows x 9 columns]"
      ]
     },
     "execution_count": 13,
     "metadata": {},
     "output_type": "execute_result"
    }
   ],
   "source": [
    "dfa = df.drop(['id','gender','ever_married'] ,axis = 1)\n",
    "dfa"
   ]
  },
  {
   "cell_type": "code",
   "execution_count": 14,
   "id": "ad840f5d",
   "metadata": {},
   "outputs": [],
   "source": [
    "x = dfa.drop(['stroke'], axis=1)\n",
    "\n",
    "y = dfa['stroke']"
   ]
  },
  {
   "cell_type": "code",
   "execution_count": 15,
   "id": "b78bef08",
   "metadata": {},
   "outputs": [],
   "source": [
    "from sklearn.model_selection import train_test_split\n",
    "\n",
    "x_train, x_test, y_train, y_test = train_test_split(x, y, test_size = 0.30, random_state = 0)"
   ]
  },
  {
   "cell_type": "code",
   "execution_count": 16,
   "id": "7a3a97db",
   "metadata": {},
   "outputs": [
    {
     "data": {
      "text/plain": [
       "((3577, 8), (1533, 8))"
      ]
     },
     "execution_count": 16,
     "metadata": {},
     "output_type": "execute_result"
    }
   ],
   "source": [
    "x_train.shape, x_test.shape"
   ]
  },
  {
   "cell_type": "code",
   "execution_count": 17,
   "id": "8cab609f",
   "metadata": {},
   "outputs": [
    {
     "data": {
      "text/plain": [
       "age                  float64\n",
       "hypertension           int64\n",
       "heart_disease          int64\n",
       "work_type             object\n",
       "Residence_type        object\n",
       "avg_glucose_level    float64\n",
       "bmi                  float64\n",
       "smoking_status        object\n",
       "dtype: object"
      ]
     },
     "execution_count": 17,
     "metadata": {},
     "output_type": "execute_result"
    }
   ],
   "source": [
    "x_train.dtypes"
   ]
  },
  {
   "cell_type": "code",
   "execution_count": 18,
   "id": "66ff6d8c",
   "metadata": {},
   "outputs": [],
   "source": [
    "import category_encoders as ce"
   ]
  },
  {
   "cell_type": "code",
   "execution_count": 19,
   "id": "c7f9623f",
   "metadata": {},
   "outputs": [],
   "source": [
    "encoder = ce.OrdinalEncoder(cols=['work_type','Residence_type','smoking_status'])\n",
    "\n",
    "\n",
    "x_train = encoder.fit_transform(x_train)\n",
    "\n",
    "x_test = encoder.transform(x_test)"
   ]
  },
  {
   "cell_type": "code",
   "execution_count": 20,
   "id": "ccba0712",
   "metadata": {},
   "outputs": [
    {
     "data": {
      "text/plain": [
       "((3577, 8), (1533, 8))"
      ]
     },
     "execution_count": 20,
     "metadata": {},
     "output_type": "execute_result"
    }
   ],
   "source": [
    "x_train.shape, x_test.shape"
   ]
  },
  {
   "cell_type": "code",
   "execution_count": 21,
   "id": "d651fb4b",
   "metadata": {},
   "outputs": [
    {
     "data": {
      "text/plain": [
       "age                  float64\n",
       "hypertension           int64\n",
       "heart_disease          int64\n",
       "work_type              int32\n",
       "Residence_type         int32\n",
       "avg_glucose_level    float64\n",
       "bmi                  float64\n",
       "smoking_status         int32\n",
       "dtype: object"
      ]
     },
     "execution_count": 21,
     "metadata": {},
     "output_type": "execute_result"
    }
   ],
   "source": [
    "x_train.dtypes"
   ]
  },
  {
   "cell_type": "code",
   "execution_count": 22,
   "id": "d9c92c90",
   "metadata": {},
   "outputs": [
    {
     "data": {
      "text/plain": [
       "age                  float64\n",
       "hypertension           int64\n",
       "heart_disease          int64\n",
       "work_type              int32\n",
       "Residence_type         int32\n",
       "avg_glucose_level    float64\n",
       "bmi                  float64\n",
       "smoking_status         int32\n",
       "dtype: object"
      ]
     },
     "execution_count": 22,
     "metadata": {},
     "output_type": "execute_result"
    }
   ],
   "source": [
    "x_test.dtypes"
   ]
  },
  {
   "cell_type": "code",
   "execution_count": 2,
   "id": "a38e1840",
   "metadata": {},
   "outputs": [
    {
     "ename": "NameError",
     "evalue": "name 'x_train' is not defined",
     "output_type": "error",
     "traceback": [
      "\u001b[1;31m---------------------------------------------------------------------------\u001b[0m",
      "\u001b[1;31mNameError\u001b[0m                                 Traceback (most recent call last)",
      "Cell \u001b[1;32mIn[2], line 5\u001b[0m\n\u001b[0;32m      1\u001b[0m \u001b[38;5;28;01mfrom\u001b[39;00m \u001b[38;5;21;01msklearn\u001b[39;00m\u001b[38;5;21;01m.\u001b[39;00m\u001b[38;5;21;01mtree\u001b[39;00m \u001b[38;5;28;01mimport\u001b[39;00m DecisionTreeClassifier\n\u001b[0;32m      3\u001b[0m clf_gini \u001b[38;5;241m=\u001b[39mDecisionTreeClassifier(criterion\u001b[38;5;241m=\u001b[39m\u001b[38;5;124m'\u001b[39m\u001b[38;5;124mgini\u001b[39m\u001b[38;5;124m'\u001b[39m, max_depth\u001b[38;5;241m=\u001b[39m\u001b[38;5;241m3\u001b[39m, random_state\u001b[38;5;241m=\u001b[39m\u001b[38;5;241m0\u001b[39m) \n\u001b[1;32m----> 5\u001b[0m clf_gini\u001b[38;5;241m.\u001b[39mfit(\u001b[43mx_train\u001b[49m, y_train)\n",
      "\u001b[1;31mNameError\u001b[0m: name 'x_train' is not defined"
     ]
    }
   ],
   "source": [
    "from sklearn.tree import DecisionTreeClassifier\n",
    "\n",
    "clf_gini =DecisionTreeClassifier(criterion='gini', max_depth=3, random_state=0) \n",
    "\n",
    "clf_gini.fit(x_train, y_train)"
   ]
  },
  {
   "cell_type": "code",
   "execution_count": 1,
   "id": "81f63ff3",
   "metadata": {},
   "outputs": [
    {
     "ename": "NameError",
     "evalue": "name 'clf_gini' is not defined",
     "output_type": "error",
     "traceback": [
      "\u001b[1;31m---------------------------------------------------------------------------\u001b[0m",
      "\u001b[1;31mNameError\u001b[0m                                 Traceback (most recent call last)",
      "Cell \u001b[1;32mIn[1], line 1\u001b[0m\n\u001b[1;32m----> 1\u001b[0m y_pred_gini \u001b[38;5;241m=\u001b[39m \u001b[43mclf_gini\u001b[49m\u001b[38;5;241m.\u001b[39mpredict(x_test)\n",
      "\u001b[1;31mNameError\u001b[0m: name 'clf_gini' is not defined"
     ]
    }
   ],
   "source": [
    "y_pred_gini = clf_gini.predict(x_test)"
   ]
  },
  {
   "cell_type": "code",
   "execution_count": 25,
   "id": "ee39e832",
   "metadata": {},
   "outputs": [
    {
     "name": "stdout",
     "output_type": "stream",
     "text": [
      "Model accuracy score with criterion gini index: 0.9498\n"
     ]
    }
   ],
   "source": [
    "from sklearn.metrics import accuracy_score\n",
    "\n",
    "print('Model accuracy score with criterion gini index: {0:0.4f}'. format(accuracy_score(y_test, y_pred_gini)))"
   ]
  },
  {
   "cell_type": "code",
   "execution_count": 26,
   "id": "c9246142",
   "metadata": {},
   "outputs": [
    {
     "name": "stdout",
     "output_type": "stream",
     "text": [
      "Training set score: 0.9522\n",
      "Test set score: 0.9498\n"
     ]
    }
   ],
   "source": [
    "print('Training set score: {:.4f}'.format(clf_gini.score(x_train, y_train)))\n",
    "\n",
    "print('Test set score: {:.4f}'.format(clf_gini.score(x_test, y_test)))"
   ]
  },
  {
   "cell_type": "code",
   "execution_count": 27,
   "id": "ad9ed915",
   "metadata": {},
   "outputs": [],
   "source": [
    "y_train = y_train.map({0:\"Stroke\",1:\"No stroke\"})"
   ]
  },
  {
   "cell_type": "code",
   "execution_count": 28,
   "id": "9bc77fbd",
   "metadata": {},
   "outputs": [
    {
     "data": {
      "image/svg+xml": [
       "<?xml version=\"1.0\" encoding=\"UTF-8\" standalone=\"no\"?>\n",
       "<!DOCTYPE svg PUBLIC \"-//W3C//DTD SVG 1.1//EN\"\n",
       " \"http://www.w3.org/Graphics/SVG/1.1/DTD/svg11.dtd\">\n",
       "<!-- Generated by graphviz version 2.50.0 (0)\n",
       " -->\n",
       "<!-- Title: Tree Pages: 1 -->\n",
       "<svg width=\"1054pt\" height=\"433pt\"\n",
       " viewBox=\"0.00 0.00 1054.00 433.00\" xmlns=\"http://www.w3.org/2000/svg\" xmlns:xlink=\"http://www.w3.org/1999/xlink\">\n",
       "<g id=\"graph0\" class=\"graph\" transform=\"scale(1 1) rotate(0) translate(4 429)\">\n",
       "<title>Tree</title>\n",
       "<polygon fill=\"white\" stroke=\"transparent\" points=\"-4,4 -4,-429 1050,-429 1050,4 -4,4\"/>\n",
       "<!-- 0 -->\n",
       "<g id=\"node1\" class=\"node\">\n",
       "<title>0</title>\n",
       "<path fill=\"#e68743\" stroke=\"black\" d=\"M562.5,-425C562.5,-425 454.5,-425 454.5,-425 448.5,-425 442.5,-419 442.5,-413 442.5,-413 442.5,-354 442.5,-354 442.5,-348 448.5,-342 454.5,-342 454.5,-342 562.5,-342 562.5,-342 568.5,-342 574.5,-348 574.5,-354 574.5,-354 574.5,-413 574.5,-413 574.5,-419 568.5,-425 562.5,-425\"/>\n",
       "<text text-anchor=\"start\" x=\"476.5\" y=\"-409.8\" font-family=\"Helvetica,sans-Serif\" font-size=\"14.00\">age ≤ 67.5</text>\n",
       "<text text-anchor=\"start\" x=\"473\" y=\"-394.8\" font-family=\"Helvetica,sans-Serif\" font-size=\"14.00\">gini = 0.092</text>\n",
       "<text text-anchor=\"start\" x=\"460\" y=\"-379.8\" font-family=\"Helvetica,sans-Serif\" font-size=\"14.00\">samples = 3577</text>\n",
       "<text text-anchor=\"start\" x=\"450.5\" y=\"-364.8\" font-family=\"Helvetica,sans-Serif\" font-size=\"14.00\">value = [3404, 173]</text>\n",
       "<text text-anchor=\"start\" x=\"465.5\" y=\"-349.8\" font-family=\"Helvetica,sans-Serif\" font-size=\"14.00\">class = Stroke</text>\n",
       "</g>\n",
       "<!-- 1 -->\n",
       "<g id=\"node2\" class=\"node\">\n",
       "<title>1</title>\n",
       "<path fill=\"#e6843e\" stroke=\"black\" d=\"M470,-306C470,-306 369,-306 369,-306 363,-306 357,-300 357,-294 357,-294 357,-235 357,-235 357,-229 363,-223 369,-223 369,-223 470,-223 470,-223 476,-223 482,-229 482,-235 482,-235 482,-294 482,-294 482,-300 476,-306 470,-306\"/>\n",
       "<text text-anchor=\"start\" x=\"387.5\" y=\"-290.8\" font-family=\"Helvetica,sans-Serif\" font-size=\"14.00\">age ≤ 50.5</text>\n",
       "<text text-anchor=\"start\" x=\"384\" y=\"-275.8\" font-family=\"Helvetica,sans-Serif\" font-size=\"14.00\">gini = 0.045</text>\n",
       "<text text-anchor=\"start\" x=\"371\" y=\"-260.8\" font-family=\"Helvetica,sans-Serif\" font-size=\"14.00\">samples = 2978</text>\n",
       "<text text-anchor=\"start\" x=\"365\" y=\"-245.8\" font-family=\"Helvetica,sans-Serif\" font-size=\"14.00\">value = [2910, 68]</text>\n",
       "<text text-anchor=\"start\" x=\"376.5\" y=\"-230.8\" font-family=\"Helvetica,sans-Serif\" font-size=\"14.00\">class = Stroke</text>\n",
       "</g>\n",
       "<!-- 0&#45;&gt;1 -->\n",
       "<g id=\"edge1\" class=\"edge\">\n",
       "<title>0&#45;&gt;1</title>\n",
       "<path fill=\"none\" stroke=\"black\" d=\"M477.62,-341.91C470.79,-332.92 463.48,-323.32 456.43,-314.05\"/>\n",
       "<polygon fill=\"black\" stroke=\"black\" points=\"459.16,-311.86 450.32,-306.02 453.59,-316.1 459.16,-311.86\"/>\n",
       "<text text-anchor=\"middle\" x=\"446.96\" y=\"-327.09\" font-family=\"Helvetica,sans-Serif\" font-size=\"14.00\">True</text>\n",
       "</g>\n",
       "<!-- 8 -->\n",
       "<g id=\"node9\" class=\"node\">\n",
       "<title>8</title>\n",
       "<path fill=\"#eb9c63\" stroke=\"black\" d=\"M684,-306C684,-306 583,-306 583,-306 577,-306 571,-300 571,-294 571,-294 571,-235 571,-235 571,-229 577,-223 583,-223 583,-223 684,-223 684,-223 690,-223 696,-229 696,-235 696,-235 696,-294 696,-294 696,-300 690,-306 684,-306\"/>\n",
       "<text text-anchor=\"start\" x=\"601.5\" y=\"-290.8\" font-family=\"Helvetica,sans-Serif\" font-size=\"14.00\">age ≤ 76.5</text>\n",
       "<text text-anchor=\"start\" x=\"598\" y=\"-275.8\" font-family=\"Helvetica,sans-Serif\" font-size=\"14.00\">gini = 0.289</text>\n",
       "<text text-anchor=\"start\" x=\"588.5\" y=\"-260.8\" font-family=\"Helvetica,sans-Serif\" font-size=\"14.00\">samples = 599</text>\n",
       "<text text-anchor=\"start\" x=\"579\" y=\"-245.8\" font-family=\"Helvetica,sans-Serif\" font-size=\"14.00\">value = [494, 105]</text>\n",
       "<text text-anchor=\"start\" x=\"590.5\" y=\"-230.8\" font-family=\"Helvetica,sans-Serif\" font-size=\"14.00\">class = Stroke</text>\n",
       "</g>\n",
       "<!-- 0&#45;&gt;8 -->\n",
       "<g id=\"edge8\" class=\"edge\">\n",
       "<title>0&#45;&gt;8</title>\n",
       "<path fill=\"none\" stroke=\"black\" d=\"M551.87,-341.91C561.85,-332.56 572.56,-322.54 582.83,-312.93\"/>\n",
       "<polygon fill=\"black\" stroke=\"black\" points=\"585.3,-315.41 590.21,-306.02 580.52,-310.3 585.3,-315.41\"/>\n",
       "<text text-anchor=\"middle\" x=\"589.38\" y=\"-327.31\" font-family=\"Helvetica,sans-Serif\" font-size=\"14.00\">False</text>\n",
       "</g>\n",
       "<!-- 2 -->\n",
       "<g id=\"node3\" class=\"node\">\n",
       "<title>2</title>\n",
       "<path fill=\"#e5823a\" stroke=\"black\" d=\"M243.5,-187C243.5,-187 143.5,-187 143.5,-187 137.5,-187 131.5,-181 131.5,-175 131.5,-175 131.5,-116 131.5,-116 131.5,-110 137.5,-104 143.5,-104 143.5,-104 243.5,-104 243.5,-104 249.5,-104 255.5,-110 255.5,-116 255.5,-116 255.5,-175 255.5,-175 255.5,-181 249.5,-187 243.5,-187\"/>\n",
       "<text text-anchor=\"start\" x=\"161.5\" y=\"-171.8\" font-family=\"Helvetica,sans-Serif\" font-size=\"14.00\">age ≤ 37.5</text>\n",
       "<text text-anchor=\"start\" x=\"161.5\" y=\"-156.8\" font-family=\"Helvetica,sans-Serif\" font-size=\"14.00\">gini = 0.01</text>\n",
       "<text text-anchor=\"start\" x=\"145\" y=\"-141.8\" font-family=\"Helvetica,sans-Serif\" font-size=\"14.00\">samples = 2088</text>\n",
       "<text text-anchor=\"start\" x=\"139.5\" y=\"-126.8\" font-family=\"Helvetica,sans-Serif\" font-size=\"14.00\">value = [2077, 11]</text>\n",
       "<text text-anchor=\"start\" x=\"150.5\" y=\"-111.8\" font-family=\"Helvetica,sans-Serif\" font-size=\"14.00\">class = Stroke</text>\n",
       "</g>\n",
       "<!-- 1&#45;&gt;2 -->\n",
       "<g id=\"edge2\" class=\"edge\">\n",
       "<title>1&#45;&gt;2</title>\n",
       "<path fill=\"none\" stroke=\"black\" d=\"M356.85,-231.06C328.32,-216.29 294.4,-198.74 264.89,-183.46\"/>\n",
       "<polygon fill=\"black\" stroke=\"black\" points=\"266.37,-180.29 255.88,-178.8 263.15,-186.5 266.37,-180.29\"/>\n",
       "</g>\n",
       "<!-- 5 -->\n",
       "<g id=\"node6\" class=\"node\">\n",
       "<title>5</title>\n",
       "<path fill=\"#e78a47\" stroke=\"black\" d=\"M475,-187C475,-187 364,-187 364,-187 358,-187 352,-181 352,-175 352,-175 352,-116 352,-116 352,-110 358,-104 364,-104 364,-104 475,-104 475,-104 481,-104 487,-110 487,-116 487,-116 487,-175 487,-175 487,-181 481,-187 475,-187\"/>\n",
       "<text text-anchor=\"start\" x=\"360\" y=\"-171.8\" font-family=\"Helvetica,sans-Serif\" font-size=\"14.00\">heart_disease ≤ 0.5</text>\n",
       "<text text-anchor=\"start\" x=\"387.5\" y=\"-156.8\" font-family=\"Helvetica,sans-Serif\" font-size=\"14.00\">gini = 0.12</text>\n",
       "<text text-anchor=\"start\" x=\"374.5\" y=\"-141.8\" font-family=\"Helvetica,sans-Serif\" font-size=\"14.00\">samples = 890</text>\n",
       "<text text-anchor=\"start\" x=\"369\" y=\"-126.8\" font-family=\"Helvetica,sans-Serif\" font-size=\"14.00\">value = [833, 57]</text>\n",
       "<text text-anchor=\"start\" x=\"376.5\" y=\"-111.8\" font-family=\"Helvetica,sans-Serif\" font-size=\"14.00\">class = Stroke</text>\n",
       "</g>\n",
       "<!-- 1&#45;&gt;5 -->\n",
       "<g id=\"edge5\" class=\"edge\">\n",
       "<title>1&#45;&gt;5</title>\n",
       "<path fill=\"none\" stroke=\"black\" d=\"M419.5,-222.91C419.5,-214.65 419.5,-205.86 419.5,-197.3\"/>\n",
       "<polygon fill=\"black\" stroke=\"black\" points=\"423,-197.02 419.5,-187.02 416,-197.02 423,-197.02\"/>\n",
       "</g>\n",
       "<!-- 3 -->\n",
       "<g id=\"node4\" class=\"node\">\n",
       "<title>3</title>\n",
       "<path fill=\"#e58139\" stroke=\"black\" d=\"M105,-68C105,-68 12,-68 12,-68 6,-68 0,-62 0,-56 0,-56 0,-12 0,-12 0,-6 6,0 12,0 12,0 105,0 105,0 111,0 117,-6 117,-12 117,-12 117,-56 117,-56 117,-62 111,-68 105,-68\"/>\n",
       "<text text-anchor=\"start\" x=\"30.5\" y=\"-52.8\" font-family=\"Helvetica,sans-Serif\" font-size=\"14.00\">gini = 0.0</text>\n",
       "<text text-anchor=\"start\" x=\"10\" y=\"-37.8\" font-family=\"Helvetica,sans-Serif\" font-size=\"14.00\">samples = 1409</text>\n",
       "<text text-anchor=\"start\" x=\"8\" y=\"-22.8\" font-family=\"Helvetica,sans-Serif\" font-size=\"14.00\">value = [1409, 0]</text>\n",
       "<text text-anchor=\"start\" x=\"15.5\" y=\"-7.8\" font-family=\"Helvetica,sans-Serif\" font-size=\"14.00\">class = Stroke</text>\n",
       "</g>\n",
       "<!-- 2&#45;&gt;3 -->\n",
       "<g id=\"edge3\" class=\"edge\">\n",
       "<title>2&#45;&gt;3</title>\n",
       "<path fill=\"none\" stroke=\"black\" d=\"M143.23,-103.73C131.54,-94.24 119.1,-84.16 107.46,-74.72\"/>\n",
       "<polygon fill=\"black\" stroke=\"black\" points=\"109.53,-71.88 99.55,-68.3 105.12,-77.32 109.53,-71.88\"/>\n",
       "</g>\n",
       "<!-- 4 -->\n",
       "<g id=\"node5\" class=\"node\">\n",
       "<title>4</title>\n",
       "<path fill=\"#e5833c\" stroke=\"black\" d=\"M239.5,-68C239.5,-68 147.5,-68 147.5,-68 141.5,-68 135.5,-62 135.5,-56 135.5,-56 135.5,-12 135.5,-12 135.5,-6 141.5,0 147.5,0 147.5,0 239.5,0 239.5,0 245.5,0 251.5,-6 251.5,-12 251.5,-12 251.5,-56 251.5,-56 251.5,-62 245.5,-68 239.5,-68\"/>\n",
       "<text text-anchor=\"start\" x=\"158\" y=\"-52.8\" font-family=\"Helvetica,sans-Serif\" font-size=\"14.00\">gini = 0.032</text>\n",
       "<text text-anchor=\"start\" x=\"148.5\" y=\"-37.8\" font-family=\"Helvetica,sans-Serif\" font-size=\"14.00\">samples = 679</text>\n",
       "<text text-anchor=\"start\" x=\"143.5\" y=\"-22.8\" font-family=\"Helvetica,sans-Serif\" font-size=\"14.00\">value = [668, 11]</text>\n",
       "<text text-anchor=\"start\" x=\"150.5\" y=\"-7.8\" font-family=\"Helvetica,sans-Serif\" font-size=\"14.00\">class = Stroke</text>\n",
       "</g>\n",
       "<!-- 2&#45;&gt;4 -->\n",
       "<g id=\"edge4\" class=\"edge\">\n",
       "<title>2&#45;&gt;4</title>\n",
       "<path fill=\"none\" stroke=\"black\" d=\"M193.5,-103.73C193.5,-95.52 193.5,-86.86 193.5,-78.56\"/>\n",
       "<polygon fill=\"black\" stroke=\"black\" points=\"197,-78.3 193.5,-68.3 190,-78.3 197,-78.3\"/>\n",
       "</g>\n",
       "<!-- 6 -->\n",
       "<g id=\"node7\" class=\"node\">\n",
       "<title>6</title>\n",
       "<path fill=\"#e78844\" stroke=\"black\" d=\"M375,-68C375,-68 282,-68 282,-68 276,-68 270,-62 270,-56 270,-56 270,-12 270,-12 270,-6 276,0 282,0 282,0 375,0 375,0 381,0 387,-6 387,-12 387,-12 387,-56 387,-56 387,-62 381,-68 375,-68\"/>\n",
       "<text text-anchor=\"start\" x=\"293\" y=\"-52.8\" font-family=\"Helvetica,sans-Serif\" font-size=\"14.00\">gini = 0.103</text>\n",
       "<text text-anchor=\"start\" x=\"283.5\" y=\"-37.8\" font-family=\"Helvetica,sans-Serif\" font-size=\"14.00\">samples = 824</text>\n",
       "<text text-anchor=\"start\" x=\"278\" y=\"-22.8\" font-family=\"Helvetica,sans-Serif\" font-size=\"14.00\">value = [779, 45]</text>\n",
       "<text text-anchor=\"start\" x=\"285.5\" y=\"-7.8\" font-family=\"Helvetica,sans-Serif\" font-size=\"14.00\">class = Stroke</text>\n",
       "</g>\n",
       "<!-- 5&#45;&gt;6 -->\n",
       "<g id=\"edge6\" class=\"edge\">\n",
       "<title>5&#45;&gt;6</title>\n",
       "<path fill=\"none\" stroke=\"black\" d=\"M385.61,-103.73C378.11,-94.7 370.16,-85.12 362.64,-76.08\"/>\n",
       "<polygon fill=\"black\" stroke=\"black\" points=\"365.26,-73.75 356.17,-68.3 359.87,-78.23 365.26,-73.75\"/>\n",
       "</g>\n",
       "<!-- 7 -->\n",
       "<g id=\"node8\" class=\"node\">\n",
       "<title>7</title>\n",
       "<path fill=\"#eb9d65\" stroke=\"black\" d=\"M503.5,-68C503.5,-68 417.5,-68 417.5,-68 411.5,-68 405.5,-62 405.5,-56 405.5,-56 405.5,-12 405.5,-12 405.5,-6 411.5,0 417.5,0 417.5,0 503.5,0 503.5,0 509.5,0 515.5,-6 515.5,-12 515.5,-12 515.5,-56 515.5,-56 515.5,-62 509.5,-68 503.5,-68\"/>\n",
       "<text text-anchor=\"start\" x=\"425\" y=\"-52.8\" font-family=\"Helvetica,sans-Serif\" font-size=\"14.00\">gini = 0.298</text>\n",
       "<text text-anchor=\"start\" x=\"419.5\" y=\"-37.8\" font-family=\"Helvetica,sans-Serif\" font-size=\"14.00\">samples = 66</text>\n",
       "<text text-anchor=\"start\" x=\"413.5\" y=\"-22.8\" font-family=\"Helvetica,sans-Serif\" font-size=\"14.00\">value = [54, 12]</text>\n",
       "<text text-anchor=\"start\" x=\"417.5\" y=\"-7.8\" font-family=\"Helvetica,sans-Serif\" font-size=\"14.00\">class = Stroke</text>\n",
       "</g>\n",
       "<!-- 5&#45;&gt;7 -->\n",
       "<g id=\"edge7\" class=\"edge\">\n",
       "<title>5&#45;&gt;7</title>\n",
       "<path fill=\"none\" stroke=\"black\" d=\"M434.77,-103.73C437.94,-95.24 441.3,-86.28 444.5,-77.73\"/>\n",
       "<polygon fill=\"black\" stroke=\"black\" points=\"447.8,-78.89 448.03,-68.3 441.25,-76.44 447.8,-78.89\"/>\n",
       "</g>\n",
       "<!-- 9 -->\n",
       "<g id=\"node10\" class=\"node\">\n",
       "<title>9</title>\n",
       "<path fill=\"#e99458\" stroke=\"black\" d=\"M713.5,-187C713.5,-187 553.5,-187 553.5,-187 547.5,-187 541.5,-181 541.5,-175 541.5,-175 541.5,-116 541.5,-116 541.5,-110 547.5,-104 553.5,-104 553.5,-104 713.5,-104 713.5,-104 719.5,-104 725.5,-110 725.5,-116 725.5,-116 725.5,-175 725.5,-175 725.5,-181 719.5,-187 713.5,-187\"/>\n",
       "<text text-anchor=\"start\" x=\"549.5\" y=\"-171.8\" font-family=\"Helvetica,sans-Serif\" font-size=\"14.00\">avg_glucose_level ≤ 230.67</text>\n",
       "<text text-anchor=\"start\" x=\"598\" y=\"-156.8\" font-family=\"Helvetica,sans-Serif\" font-size=\"14.00\">gini = 0.231</text>\n",
       "<text text-anchor=\"start\" x=\"588.5\" y=\"-141.8\" font-family=\"Helvetica,sans-Serif\" font-size=\"14.00\">samples = 307</text>\n",
       "<text text-anchor=\"start\" x=\"583\" y=\"-126.8\" font-family=\"Helvetica,sans-Serif\" font-size=\"14.00\">value = [266, 41]</text>\n",
       "<text text-anchor=\"start\" x=\"590.5\" y=\"-111.8\" font-family=\"Helvetica,sans-Serif\" font-size=\"14.00\">class = Stroke</text>\n",
       "</g>\n",
       "<!-- 8&#45;&gt;9 -->\n",
       "<g id=\"edge9\" class=\"edge\">\n",
       "<title>8&#45;&gt;9</title>\n",
       "<path fill=\"none\" stroke=\"black\" d=\"M633.5,-222.91C633.5,-214.65 633.5,-205.86 633.5,-197.3\"/>\n",
       "<polygon fill=\"black\" stroke=\"black\" points=\"637,-197.02 633.5,-187.02 630,-197.02 637,-197.02\"/>\n",
       "</g>\n",
       "<!-- 12 -->\n",
       "<g id=\"node13\" class=\"node\">\n",
       "<title>12</title>\n",
       "<path fill=\"#eca471\" stroke=\"black\" d=\"M895,-187C895,-187 802,-187 802,-187 796,-187 790,-181 790,-175 790,-175 790,-116 790,-116 790,-110 796,-104 802,-104 802,-104 895,-104 895,-104 901,-104 907,-110 907,-116 907,-116 907,-175 907,-175 907,-181 901,-187 895,-187\"/>\n",
       "<text text-anchor=\"start\" x=\"816.5\" y=\"-171.8\" font-family=\"Helvetica,sans-Serif\" font-size=\"14.00\">bmi ≤ 44.2</text>\n",
       "<text text-anchor=\"start\" x=\"813\" y=\"-156.8\" font-family=\"Helvetica,sans-Serif\" font-size=\"14.00\">gini = 0.342</text>\n",
       "<text text-anchor=\"start\" x=\"803.5\" y=\"-141.8\" font-family=\"Helvetica,sans-Serif\" font-size=\"14.00\">samples = 292</text>\n",
       "<text text-anchor=\"start\" x=\"798\" y=\"-126.8\" font-family=\"Helvetica,sans-Serif\" font-size=\"14.00\">value = [228, 64]</text>\n",
       "<text text-anchor=\"start\" x=\"805.5\" y=\"-111.8\" font-family=\"Helvetica,sans-Serif\" font-size=\"14.00\">class = Stroke</text>\n",
       "</g>\n",
       "<!-- 8&#45;&gt;12 -->\n",
       "<g id=\"edge12\" class=\"edge\">\n",
       "<title>8&#45;&gt;12</title>\n",
       "<path fill=\"none\" stroke=\"black\" d=\"M696.26,-229.34C722.77,-214.92 753.69,-198.1 780.71,-183.39\"/>\n",
       "<polygon fill=\"black\" stroke=\"black\" points=\"782.6,-186.35 789.71,-178.49 779.26,-180.2 782.6,-186.35\"/>\n",
       "</g>\n",
       "<!-- 10 -->\n",
       "<g id=\"node11\" class=\"node\">\n",
       "<title>10</title>\n",
       "<path fill=\"#e99254\" stroke=\"black\" d=\"M639,-68C639,-68 546,-68 546,-68 540,-68 534,-62 534,-56 534,-56 534,-12 534,-12 534,-6 540,0 546,0 546,0 639,0 639,0 645,0 651,-6 651,-12 651,-12 651,-56 651,-56 651,-62 645,-68 639,-68\"/>\n",
       "<text text-anchor=\"start\" x=\"557\" y=\"-52.8\" font-family=\"Helvetica,sans-Serif\" font-size=\"14.00\">gini = 0.213</text>\n",
       "<text text-anchor=\"start\" x=\"547.5\" y=\"-37.8\" font-family=\"Helvetica,sans-Serif\" font-size=\"14.00\">samples = 289</text>\n",
       "<text text-anchor=\"start\" x=\"542\" y=\"-22.8\" font-family=\"Helvetica,sans-Serif\" font-size=\"14.00\">value = [254, 35]</text>\n",
       "<text text-anchor=\"start\" x=\"549.5\" y=\"-7.8\" font-family=\"Helvetica,sans-Serif\" font-size=\"14.00\">class = Stroke</text>\n",
       "</g>\n",
       "<!-- 9&#45;&gt;10 -->\n",
       "<g id=\"edge10\" class=\"edge\">\n",
       "<title>9&#45;&gt;10</title>\n",
       "<path fill=\"none\" stroke=\"black\" d=\"M618.23,-103.73C615.06,-95.24 611.7,-86.28 608.5,-77.73\"/>\n",
       "<polygon fill=\"black\" stroke=\"black\" points=\"611.75,-76.44 604.97,-68.3 605.2,-78.89 611.75,-76.44\"/>\n",
       "</g>\n",
       "<!-- 11 -->\n",
       "<g id=\"node12\" class=\"node\">\n",
       "<title>11</title>\n",
       "<path fill=\"#f2c09c\" stroke=\"black\" d=\"M759.5,-68C759.5,-68 681.5,-68 681.5,-68 675.5,-68 669.5,-62 669.5,-56 669.5,-56 669.5,-12 669.5,-12 669.5,-6 675.5,0 681.5,0 681.5,0 759.5,0 759.5,0 765.5,0 771.5,-6 771.5,-12 771.5,-12 771.5,-56 771.5,-56 771.5,-62 765.5,-68 759.5,-68\"/>\n",
       "<text text-anchor=\"start\" x=\"685\" y=\"-52.8\" font-family=\"Helvetica,sans-Serif\" font-size=\"14.00\">gini = 0.444</text>\n",
       "<text text-anchor=\"start\" x=\"679.5\" y=\"-37.8\" font-family=\"Helvetica,sans-Serif\" font-size=\"14.00\">samples = 18</text>\n",
       "<text text-anchor=\"start\" x=\"677.5\" y=\"-22.8\" font-family=\"Helvetica,sans-Serif\" font-size=\"14.00\">value = [12, 6]</text>\n",
       "<text text-anchor=\"start\" x=\"677.5\" y=\"-7.8\" font-family=\"Helvetica,sans-Serif\" font-size=\"14.00\">class = Stroke</text>\n",
       "</g>\n",
       "<!-- 9&#45;&gt;11 -->\n",
       "<g id=\"edge11\" class=\"edge\">\n",
       "<title>9&#45;&gt;11</title>\n",
       "<path fill=\"none\" stroke=\"black\" d=\"M665.9,-103.73C673,-94.79 680.52,-85.32 687.64,-76.36\"/>\n",
       "<polygon fill=\"black\" stroke=\"black\" points=\"690.56,-78.31 694.04,-68.3 685.08,-73.95 690.56,-78.31\"/>\n",
       "</g>\n",
       "<!-- 13 -->\n",
       "<g id=\"node14\" class=\"node\">\n",
       "<title>13</title>\n",
       "<path fill=\"#eca36f\" stroke=\"black\" d=\"M895,-68C895,-68 802,-68 802,-68 796,-68 790,-62 790,-56 790,-56 790,-12 790,-12 790,-6 796,0 802,0 802,0 895,0 895,0 901,0 907,-6 907,-12 907,-12 907,-56 907,-56 907,-62 901,-68 895,-68\"/>\n",
       "<text text-anchor=\"start\" x=\"813\" y=\"-52.8\" font-family=\"Helvetica,sans-Serif\" font-size=\"14.00\">gini = 0.336</text>\n",
       "<text text-anchor=\"start\" x=\"803.5\" y=\"-37.8\" font-family=\"Helvetica,sans-Serif\" font-size=\"14.00\">samples = 290</text>\n",
       "<text text-anchor=\"start\" x=\"798\" y=\"-22.8\" font-family=\"Helvetica,sans-Serif\" font-size=\"14.00\">value = [228, 62]</text>\n",
       "<text text-anchor=\"start\" x=\"805.5\" y=\"-7.8\" font-family=\"Helvetica,sans-Serif\" font-size=\"14.00\">class = Stroke</text>\n",
       "</g>\n",
       "<!-- 12&#45;&gt;13 -->\n",
       "<g id=\"edge13\" class=\"edge\">\n",
       "<title>12&#45;&gt;13</title>\n",
       "<path fill=\"none\" stroke=\"black\" d=\"M848.5,-103.73C848.5,-95.52 848.5,-86.86 848.5,-78.56\"/>\n",
       "<polygon fill=\"black\" stroke=\"black\" points=\"852,-78.3 848.5,-68.3 845,-78.3 852,-78.3\"/>\n",
       "</g>\n",
       "<!-- 14 -->\n",
       "<g id=\"node15\" class=\"node\">\n",
       "<title>14</title>\n",
       "<path fill=\"#399de5\" stroke=\"black\" d=\"M1034,-68C1034,-68 937,-68 937,-68 931,-68 925,-62 925,-56 925,-56 925,-12 925,-12 925,-6 931,0 937,0 937,0 1034,0 1034,0 1040,0 1046,-6 1046,-12 1046,-12 1046,-56 1046,-56 1046,-62 1040,-68 1034,-68\"/>\n",
       "<text text-anchor=\"start\" x=\"957.5\" y=\"-52.8\" font-family=\"Helvetica,sans-Serif\" font-size=\"14.00\">gini = 0.0</text>\n",
       "<text text-anchor=\"start\" x=\"948\" y=\"-37.8\" font-family=\"Helvetica,sans-Serif\" font-size=\"14.00\">samples = 2</text>\n",
       "<text text-anchor=\"start\" x=\"946\" y=\"-22.8\" font-family=\"Helvetica,sans-Serif\" font-size=\"14.00\">value = [0, 2]</text>\n",
       "<text text-anchor=\"start\" x=\"933\" y=\"-7.8\" font-family=\"Helvetica,sans-Serif\" font-size=\"14.00\">class = No stroke</text>\n",
       "</g>\n",
       "<!-- 12&#45;&gt;14 -->\n",
       "<g id=\"edge14\" class=\"edge\">\n",
       "<title>12&#45;&gt;14</title>\n",
       "<path fill=\"none\" stroke=\"black\" d=\"M899.51,-103.73C911.38,-94.24 924,-84.16 935.81,-74.72\"/>\n",
       "<polygon fill=\"black\" stroke=\"black\" points=\"938.21,-77.28 943.84,-68.3 933.84,-71.81 938.21,-77.28\"/>\n",
       "</g>\n",
       "</g>\n",
       "</svg>\n"
      ],
      "text/plain": [
       "<graphviz.sources.Source at 0x1f45d368250>"
      ]
     },
     "execution_count": 28,
     "metadata": {},
     "output_type": "execute_result"
    }
   ],
   "source": [
    "import graphviz \n",
    "from sklearn import tree\n",
    "\n",
    "dot_data = tree.export_graphviz(clf_gini, out_file=None, \n",
    "                              feature_names=x_train.columns,  \n",
    "                              class_names=y_train.unique(),  \n",
    "                              filled=True, rounded=True,  \n",
    "                              special_characters=True)\n",
    "graph = graphviz.Source(dot_data) \n",
    "\n",
    "graph\n"
   ]
  }
 ],
 "metadata": {
  "kernelspec": {
   "display_name": "Python 3 (ipykernel)",
   "language": "python",
   "name": "python3"
  },
  "language_info": {
   "codemirror_mode": {
    "name": "ipython",
    "version": 3
   },
   "file_extension": ".py",
   "mimetype": "text/x-python",
   "name": "python",
   "nbconvert_exporter": "python",
   "pygments_lexer": "ipython3",
   "version": "3.10.9"
  }
 },
 "nbformat": 4,
 "nbformat_minor": 5
}
